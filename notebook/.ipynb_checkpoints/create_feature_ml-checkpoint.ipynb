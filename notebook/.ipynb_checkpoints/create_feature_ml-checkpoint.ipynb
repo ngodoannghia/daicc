{
 "cells": [
  {
   "cell_type": "code",
   "execution_count": 1,
   "id": "b0fa6660",
   "metadata": {},
   "outputs": [],
   "source": [
    "import pandas as pd\n",
    "from sklearn.model_selection import train_test_split\n",
    "from sklearn.metrics import roc_auc_score"
   ]
  },
  {
   "cell_type": "code",
   "execution_count": 2,
   "id": "345dcdb2",
   "metadata": {},
   "outputs": [],
   "source": [
    "df_label = pd.read_csv('../data/label.csv')\n",
    "df_sub = pd.read_csv('../data/sample_submission.csv')\n",
    "df_sensor_log = pd.read_csv('../data/sensor_log.csv')"
   ]
  },
  {
   "cell_type": "code",
   "execution_count": 3,
   "id": "6a96a36d",
   "metadata": {},
   "outputs": [],
   "source": [
    "num_features = []"
   ]
  },
  {
   "cell_type": "code",
   "execution_count": 4,
   "id": "9f7840d9",
   "metadata": {},
   "outputs": [
    {
     "data": {
      "text/html": [
       "<div>\n",
       "<style scoped>\n",
       "    .dataframe tbody tr th:only-of-type {\n",
       "        vertical-align: middle;\n",
       "    }\n",
       "\n",
       "    .dataframe tbody tr th {\n",
       "        vertical-align: top;\n",
       "    }\n",
       "\n",
       "    .dataframe thead th {\n",
       "        text-align: right;\n",
       "    }\n",
       "</style>\n",
       "<table border=\"1\" class=\"dataframe\">\n",
       "  <thead>\n",
       "    <tr style=\"text-align: right;\">\n",
       "      <th></th>\n",
       "      <th>timestamp</th>\n",
       "      <th>block_id</th>\n",
       "      <th>sensor_00</th>\n",
       "      <th>sensor_01</th>\n",
       "      <th>sensor_02</th>\n",
       "      <th>sensor_03</th>\n",
       "      <th>sensor_04</th>\n",
       "      <th>sensor_05</th>\n",
       "      <th>sensor_06</th>\n",
       "      <th>sensor_07</th>\n",
       "      <th>sensor_08</th>\n",
       "      <th>sensor_09</th>\n",
       "    </tr>\n",
       "  </thead>\n",
       "  <tbody>\n",
       "    <tr>\n",
       "      <th>0</th>\n",
       "      <td>2018-04-01 00:00:00</td>\n",
       "      <td>0</td>\n",
       "      <td>2.465394</td>\n",
       "      <td>47.09201</td>\n",
       "      <td>53.2118</td>\n",
       "      <td>46.31076</td>\n",
       "      <td>634.375</td>\n",
       "      <td>76.45975</td>\n",
       "      <td>13.41146</td>\n",
       "      <td>16.13136</td>\n",
       "      <td>15.56713</td>\n",
       "      <td>15.05353</td>\n",
       "    </tr>\n",
       "    <tr>\n",
       "      <th>1</th>\n",
       "      <td>2018-04-01 00:01:00</td>\n",
       "      <td>0</td>\n",
       "      <td>2.465394</td>\n",
       "      <td>47.09201</td>\n",
       "      <td>53.2118</td>\n",
       "      <td>46.31076</td>\n",
       "      <td>634.375</td>\n",
       "      <td>76.45975</td>\n",
       "      <td>13.41146</td>\n",
       "      <td>16.13136</td>\n",
       "      <td>15.56713</td>\n",
       "      <td>15.05353</td>\n",
       "    </tr>\n",
       "  </tbody>\n",
       "</table>\n",
       "</div>"
      ],
      "text/plain": [
       "             timestamp  block_id  sensor_00  sensor_01  sensor_02  sensor_03  \\\n",
       "0  2018-04-01 00:00:00         0   2.465394   47.09201    53.2118   46.31076   \n",
       "1  2018-04-01 00:01:00         0   2.465394   47.09201    53.2118   46.31076   \n",
       "\n",
       "   sensor_04  sensor_05  sensor_06  sensor_07  sensor_08  sensor_09  \n",
       "0    634.375   76.45975   13.41146   16.13136   15.56713   15.05353  \n",
       "1    634.375   76.45975   13.41146   16.13136   15.56713   15.05353  "
      ]
     },
     "execution_count": 4,
     "metadata": {},
     "output_type": "execute_result"
    }
   ],
   "source": [
    "df_sensor_log.head(2)"
   ]
  },
  {
   "cell_type": "code",
   "execution_count": 5,
   "id": "8e9ff4d4",
   "metadata": {},
   "outputs": [
    {
     "data": {
      "text/html": [
       "<div>\n",
       "<style scoped>\n",
       "    .dataframe tbody tr th:only-of-type {\n",
       "        vertical-align: middle;\n",
       "    }\n",
       "\n",
       "    .dataframe tbody tr th {\n",
       "        vertical-align: top;\n",
       "    }\n",
       "\n",
       "    .dataframe thead th {\n",
       "        text-align: right;\n",
       "    }\n",
       "</style>\n",
       "<table border=\"1\" class=\"dataframe\">\n",
       "  <thead>\n",
       "    <tr style=\"text-align: right;\">\n",
       "      <th></th>\n",
       "      <th>last_timestamp</th>\n",
       "      <th>last_sensor_00</th>\n",
       "      <th>last_sensor_01</th>\n",
       "      <th>last_sensor_02</th>\n",
       "      <th>last_sensor_03</th>\n",
       "      <th>last_sensor_04</th>\n",
       "      <th>last_sensor_05</th>\n",
       "      <th>last_sensor_06</th>\n",
       "      <th>last_sensor_07</th>\n",
       "      <th>last_sensor_08</th>\n",
       "      <th>last_sensor_09</th>\n",
       "    </tr>\n",
       "  </thead>\n",
       "  <tbody>\n",
       "    <tr>\n",
       "      <th>0</th>\n",
       "      <td>2018-04-01 00:09:00</td>\n",
       "      <td>2.445718</td>\n",
       "      <td>47.17882</td>\n",
       "      <td>53.1684</td>\n",
       "      <td>46.397568</td>\n",
       "      <td>641.7823</td>\n",
       "      <td>74.57428</td>\n",
       "      <td>13.38252</td>\n",
       "      <td>16.24711</td>\n",
       "      <td>15.61777</td>\n",
       "      <td>15.11863</td>\n",
       "    </tr>\n",
       "    <tr>\n",
       "      <th>1</th>\n",
       "      <td>2018-04-01 00:19:00</td>\n",
       "      <td>2.464410</td>\n",
       "      <td>48.61111</td>\n",
       "      <td>53.1684</td>\n",
       "      <td>46.310760</td>\n",
       "      <td>644.3287</td>\n",
       "      <td>78.49116</td>\n",
       "      <td>13.34635</td>\n",
       "      <td>16.13136</td>\n",
       "      <td>15.70457</td>\n",
       "      <td>15.08247</td>\n",
       "    </tr>\n",
       "  </tbody>\n",
       "</table>\n",
       "</div>"
      ],
      "text/plain": [
       "        last_timestamp  last_sensor_00  last_sensor_01  last_sensor_02  \\\n",
       "0  2018-04-01 00:09:00        2.445718        47.17882         53.1684   \n",
       "1  2018-04-01 00:19:00        2.464410        48.61111         53.1684   \n",
       "\n",
       "   last_sensor_03  last_sensor_04  last_sensor_05  last_sensor_06  \\\n",
       "0       46.397568        641.7823        74.57428        13.38252   \n",
       "1       46.310760        644.3287        78.49116        13.34635   \n",
       "\n",
       "   last_sensor_07  last_sensor_08  last_sensor_09  \n",
       "0        16.24711        15.61777        15.11863  \n",
       "1        16.13136        15.70457        15.08247  "
      ]
     },
     "execution_count": 5,
     "metadata": {},
     "output_type": "execute_result"
    }
   ],
   "source": [
    "feat_last = df_sensor_log.groupby('block_id').last().add_prefix('last_').reset_index()\n",
    "# num_features += list(feat_last.columns)[2:]\n",
    "feat_last.drop(columns=['block_id'], inplace=True)\n",
    "feat_last.head(2)"
   ]
  },
  {
   "cell_type": "code",
   "execution_count": 6,
   "id": "19d13142",
   "metadata": {},
   "outputs": [
    {
     "data": {
      "text/html": [
       "<div>\n",
       "<style scoped>\n",
       "    .dataframe tbody tr th:only-of-type {\n",
       "        vertical-align: middle;\n",
       "    }\n",
       "\n",
       "    .dataframe tbody tr th {\n",
       "        vertical-align: top;\n",
       "    }\n",
       "\n",
       "    .dataframe thead th {\n",
       "        text-align: right;\n",
       "    }\n",
       "</style>\n",
       "<table border=\"1\" class=\"dataframe\">\n",
       "  <thead>\n",
       "    <tr style=\"text-align: right;\">\n",
       "      <th></th>\n",
       "      <th>diff_sensor_00</th>\n",
       "      <th>diff_sensor_01</th>\n",
       "      <th>diff_sensor_02</th>\n",
       "      <th>diff_sensor_03</th>\n",
       "      <th>diff_sensor_04</th>\n",
       "      <th>diff_sensor_05</th>\n",
       "      <th>diff_sensor_06</th>\n",
       "      <th>diff_sensor_07</th>\n",
       "      <th>diff_sensor_08</th>\n",
       "      <th>diff_sensor_09</th>\n",
       "    </tr>\n",
       "  </thead>\n",
       "  <tbody>\n",
       "    <tr>\n",
       "      <th>0</th>\n",
       "      <td>-0.002186</td>\n",
       "      <td>0.009646</td>\n",
       "      <td>-0.004822</td>\n",
       "      <td>0.009645</td>\n",
       "      <td>0.823033</td>\n",
       "      <td>-0.209497</td>\n",
       "      <td>-0.003216</td>\n",
       "      <td>0.012861</td>\n",
       "      <td>0.005627</td>\n",
       "      <td>0.007233</td>\n",
       "    </tr>\n",
       "    <tr>\n",
       "      <th>1</th>\n",
       "      <td>0.001869</td>\n",
       "      <td>0.143229</td>\n",
       "      <td>0.000000</td>\n",
       "      <td>-0.008681</td>\n",
       "      <td>0.254640</td>\n",
       "      <td>0.391688</td>\n",
       "      <td>-0.003617</td>\n",
       "      <td>-0.011575</td>\n",
       "      <td>0.008680</td>\n",
       "      <td>-0.003616</td>\n",
       "    </tr>\n",
       "  </tbody>\n",
       "</table>\n",
       "</div>"
      ],
      "text/plain": [
       "   diff_sensor_00  diff_sensor_01  diff_sensor_02  diff_sensor_03  \\\n",
       "0       -0.002186        0.009646       -0.004822        0.009645   \n",
       "1        0.001869        0.143229        0.000000       -0.008681   \n",
       "\n",
       "   diff_sensor_04  diff_sensor_05  diff_sensor_06  diff_sensor_07  \\\n",
       "0        0.823033       -0.209497       -0.003216        0.012861   \n",
       "1        0.254640        0.391688       -0.003617       -0.011575   \n",
       "\n",
       "   diff_sensor_08  diff_sensor_09  \n",
       "0        0.005627        0.007233  \n",
       "1        0.008680       -0.003616  "
      ]
     },
     "execution_count": 6,
     "metadata": {},
     "output_type": "execute_result"
    }
   ],
   "source": [
    "df_diff = df_sensor_log[df_sensor_log.columns[2:]].diff()\n",
    "df_diff = df_diff.drop(0)\n",
    "df_diff['block_id'] = df_sensor_log['block_id']\n",
    "\n",
    "feat_diff = df_diff.groupby('block_id').mean().add_prefix('diff_').reset_index()\n",
    "feat_diff.drop(columns=['block_id'], inplace=True)\n",
    "num_features += list(feat_diff.columns)\n",
    "feat_diff.head(2)"
   ]
  },
  {
   "cell_type": "code",
   "execution_count": 7,
   "id": "c319b469",
   "metadata": {},
   "outputs": [
    {
     "data": {
      "text/html": [
       "<div>\n",
       "<style scoped>\n",
       "    .dataframe tbody tr th:only-of-type {\n",
       "        vertical-align: middle;\n",
       "    }\n",
       "\n",
       "    .dataframe tbody tr th {\n",
       "        vertical-align: top;\n",
       "    }\n",
       "\n",
       "    .dataframe thead th {\n",
       "        text-align: right;\n",
       "    }\n",
       "</style>\n",
       "<table border=\"1\" class=\"dataframe\">\n",
       "  <thead>\n",
       "    <tr style=\"text-align: right;\">\n",
       "      <th></th>\n",
       "      <th>block_id</th>\n",
       "      <th>mean_sensor_00</th>\n",
       "      <th>mean_sensor_01</th>\n",
       "      <th>mean_sensor_02</th>\n",
       "      <th>mean_sensor_03</th>\n",
       "      <th>mean_sensor_04</th>\n",
       "      <th>mean_sensor_05</th>\n",
       "      <th>mean_sensor_06</th>\n",
       "      <th>mean_sensor_07</th>\n",
       "      <th>mean_sensor_08</th>\n",
       "      <th>mean_sensor_09</th>\n",
       "    </tr>\n",
       "  </thead>\n",
       "  <tbody>\n",
       "    <tr>\n",
       "      <th>0</th>\n",
       "      <td>0</td>\n",
       "      <td>2.454966</td>\n",
       "      <td>47.131073</td>\n",
       "      <td>53.185760</td>\n",
       "      <td>46.380206</td>\n",
       "      <td>634.75692</td>\n",
       "      <td>75.89820</td>\n",
       "      <td>13.358651</td>\n",
       "      <td>16.155959</td>\n",
       "      <td>15.698062</td>\n",
       "      <td>15.084637</td>\n",
       "    </tr>\n",
       "    <tr>\n",
       "      <th>1</th>\n",
       "      <td>1</td>\n",
       "      <td>2.455064</td>\n",
       "      <td>48.315972</td>\n",
       "      <td>53.203124</td>\n",
       "      <td>46.362845</td>\n",
       "      <td>636.80556</td>\n",
       "      <td>77.24151</td>\n",
       "      <td>13.357204</td>\n",
       "      <td>16.168978</td>\n",
       "      <td>15.709636</td>\n",
       "      <td>15.086083</td>\n",
       "    </tr>\n",
       "  </tbody>\n",
       "</table>\n",
       "</div>"
      ],
      "text/plain": [
       "   block_id  mean_sensor_00  mean_sensor_01  mean_sensor_02  mean_sensor_03  \\\n",
       "0         0        2.454966       47.131073       53.185760       46.380206   \n",
       "1         1        2.455064       48.315972       53.203124       46.362845   \n",
       "\n",
       "   mean_sensor_04  mean_sensor_05  mean_sensor_06  mean_sensor_07  \\\n",
       "0       634.75692        75.89820       13.358651       16.155959   \n",
       "1       636.80556        77.24151       13.357204       16.168978   \n",
       "\n",
       "   mean_sensor_08  mean_sensor_09  \n",
       "0       15.698062       15.084637  \n",
       "1       15.709636       15.086083  "
      ]
     },
     "execution_count": 7,
     "metadata": {},
     "output_type": "execute_result"
    }
   ],
   "source": [
    "feat_mean = df_sensor_log.groupby('block_id').mean().add_prefix('mean_').reset_index()\n",
    "num_features += list(feat_mean.columns)[1:]\n",
    "feat_mean.head(2)"
   ]
  },
  {
   "cell_type": "code",
   "execution_count": 8,
   "id": "4ff96d82",
   "metadata": {},
   "outputs": [],
   "source": [
    "feat_all = pd.concat([feat_mean, feat_diff], axis=1)"
   ]
  },
  {
   "cell_type": "code",
   "execution_count": 9,
   "id": "241d7bd2",
   "metadata": {},
   "outputs": [
    {
     "data": {
      "text/html": [
       "<div>\n",
       "<style scoped>\n",
       "    .dataframe tbody tr th:only-of-type {\n",
       "        vertical-align: middle;\n",
       "    }\n",
       "\n",
       "    .dataframe tbody tr th {\n",
       "        vertical-align: top;\n",
       "    }\n",
       "\n",
       "    .dataframe thead th {\n",
       "        text-align: right;\n",
       "    }\n",
       "</style>\n",
       "<table border=\"1\" class=\"dataframe\">\n",
       "  <thead>\n",
       "    <tr style=\"text-align: right;\">\n",
       "      <th></th>\n",
       "      <th>block_id</th>\n",
       "      <th>mean_sensor_00</th>\n",
       "      <th>mean_sensor_01</th>\n",
       "      <th>mean_sensor_02</th>\n",
       "      <th>mean_sensor_03</th>\n",
       "      <th>mean_sensor_04</th>\n",
       "      <th>mean_sensor_05</th>\n",
       "      <th>mean_sensor_06</th>\n",
       "      <th>mean_sensor_07</th>\n",
       "      <th>mean_sensor_08</th>\n",
       "      <th>...</th>\n",
       "      <th>diff_sensor_00</th>\n",
       "      <th>diff_sensor_01</th>\n",
       "      <th>diff_sensor_02</th>\n",
       "      <th>diff_sensor_03</th>\n",
       "      <th>diff_sensor_04</th>\n",
       "      <th>diff_sensor_05</th>\n",
       "      <th>diff_sensor_06</th>\n",
       "      <th>diff_sensor_07</th>\n",
       "      <th>diff_sensor_08</th>\n",
       "      <th>diff_sensor_09</th>\n",
       "    </tr>\n",
       "  </thead>\n",
       "  <tbody>\n",
       "    <tr>\n",
       "      <th>0</th>\n",
       "      <td>0</td>\n",
       "      <td>2.454966</td>\n",
       "      <td>47.131073</td>\n",
       "      <td>53.185760</td>\n",
       "      <td>46.380206</td>\n",
       "      <td>634.75692</td>\n",
       "      <td>75.89820</td>\n",
       "      <td>13.358651</td>\n",
       "      <td>16.155959</td>\n",
       "      <td>15.698062</td>\n",
       "      <td>...</td>\n",
       "      <td>-0.002186</td>\n",
       "      <td>0.009646</td>\n",
       "      <td>-0.004822</td>\n",
       "      <td>0.009645</td>\n",
       "      <td>0.823033</td>\n",
       "      <td>-0.209497</td>\n",
       "      <td>-0.003216</td>\n",
       "      <td>0.012861</td>\n",
       "      <td>0.005627</td>\n",
       "      <td>0.007233</td>\n",
       "    </tr>\n",
       "    <tr>\n",
       "      <th>1</th>\n",
       "      <td>1</td>\n",
       "      <td>2.455064</td>\n",
       "      <td>48.315972</td>\n",
       "      <td>53.203124</td>\n",
       "      <td>46.362845</td>\n",
       "      <td>636.80556</td>\n",
       "      <td>77.24151</td>\n",
       "      <td>13.357204</td>\n",
       "      <td>16.168978</td>\n",
       "      <td>15.709636</td>\n",
       "      <td>...</td>\n",
       "      <td>0.001869</td>\n",
       "      <td>0.143229</td>\n",
       "      <td>0.000000</td>\n",
       "      <td>-0.008681</td>\n",
       "      <td>0.254640</td>\n",
       "      <td>0.391688</td>\n",
       "      <td>-0.003617</td>\n",
       "      <td>-0.011575</td>\n",
       "      <td>0.008680</td>\n",
       "      <td>-0.003616</td>\n",
       "    </tr>\n",
       "  </tbody>\n",
       "</table>\n",
       "<p>2 rows × 21 columns</p>\n",
       "</div>"
      ],
      "text/plain": [
       "   block_id  mean_sensor_00  mean_sensor_01  mean_sensor_02  mean_sensor_03  \\\n",
       "0         0        2.454966       47.131073       53.185760       46.380206   \n",
       "1         1        2.455064       48.315972       53.203124       46.362845   \n",
       "\n",
       "   mean_sensor_04  mean_sensor_05  mean_sensor_06  mean_sensor_07  \\\n",
       "0       634.75692        75.89820       13.358651       16.155959   \n",
       "1       636.80556        77.24151       13.357204       16.168978   \n",
       "\n",
       "   mean_sensor_08  ...  diff_sensor_00  diff_sensor_01  diff_sensor_02  \\\n",
       "0       15.698062  ...       -0.002186        0.009646       -0.004822   \n",
       "1       15.709636  ...        0.001869        0.143229        0.000000   \n",
       "\n",
       "   diff_sensor_03  diff_sensor_04  diff_sensor_05  diff_sensor_06  \\\n",
       "0        0.009645        0.823033       -0.209497       -0.003216   \n",
       "1       -0.008681        0.254640        0.391688       -0.003617   \n",
       "\n",
       "   diff_sensor_07  diff_sensor_08  diff_sensor_09  \n",
       "0        0.012861        0.005627        0.007233  \n",
       "1       -0.011575        0.008680       -0.003616  \n",
       "\n",
       "[2 rows x 21 columns]"
      ]
     },
     "execution_count": 9,
     "metadata": {},
     "output_type": "execute_result"
    }
   ],
   "source": [
    "feat_all.head(2)"
   ]
  },
  {
   "cell_type": "code",
   "execution_count": 10,
   "id": "4e0488c6",
   "metadata": {},
   "outputs": [
    {
     "data": {
      "text/html": [
       "<div>\n",
       "<style scoped>\n",
       "    .dataframe tbody tr th:only-of-type {\n",
       "        vertical-align: middle;\n",
       "    }\n",
       "\n",
       "    .dataframe tbody tr th {\n",
       "        vertical-align: top;\n",
       "    }\n",
       "\n",
       "    .dataframe thead th {\n",
       "        text-align: right;\n",
       "    }\n",
       "</style>\n",
       "<table border=\"1\" class=\"dataframe\">\n",
       "  <thead>\n",
       "    <tr style=\"text-align: right;\">\n",
       "      <th></th>\n",
       "      <th>block_id</th>\n",
       "      <th>mean_sensor_00</th>\n",
       "      <th>mean_sensor_01</th>\n",
       "      <th>mean_sensor_02</th>\n",
       "      <th>mean_sensor_03</th>\n",
       "      <th>mean_sensor_04</th>\n",
       "      <th>mean_sensor_05</th>\n",
       "      <th>mean_sensor_06</th>\n",
       "      <th>mean_sensor_07</th>\n",
       "      <th>mean_sensor_08</th>\n",
       "      <th>...</th>\n",
       "      <th>diff_sensor_00</th>\n",
       "      <th>diff_sensor_01</th>\n",
       "      <th>diff_sensor_02</th>\n",
       "      <th>diff_sensor_03</th>\n",
       "      <th>diff_sensor_04</th>\n",
       "      <th>diff_sensor_05</th>\n",
       "      <th>diff_sensor_06</th>\n",
       "      <th>diff_sensor_07</th>\n",
       "      <th>diff_sensor_08</th>\n",
       "      <th>diff_sensor_09</th>\n",
       "    </tr>\n",
       "  </thead>\n",
       "  <tbody>\n",
       "    <tr>\n",
       "      <th>0</th>\n",
       "      <td>144</td>\n",
       "      <td>2.454769</td>\n",
       "      <td>45.694442</td>\n",
       "      <td>52.32205</td>\n",
       "      <td>44.826386</td>\n",
       "      <td>634.57176</td>\n",
       "      <td>79.325703</td>\n",
       "      <td>13.093894</td>\n",
       "      <td>16.158127</td>\n",
       "      <td>15.633679</td>\n",
       "      <td>...</td>\n",
       "      <td>0.000689</td>\n",
       "      <td>-0.008681</td>\n",
       "      <td>0.00434</td>\n",
       "      <td>0.008681</td>\n",
       "      <td>0.39353</td>\n",
       "      <td>0.409471</td>\n",
       "      <td>0.014468</td>\n",
       "      <td>-0.007958</td>\n",
       "      <td>0.007957</td>\n",
       "      <td>-0.002894</td>\n",
       "    </tr>\n",
       "    <tr>\n",
       "      <th>1</th>\n",
       "      <td>145</td>\n",
       "      <td>2.454572</td>\n",
       "      <td>45.815969</td>\n",
       "      <td>52.33073</td>\n",
       "      <td>44.900174</td>\n",
       "      <td>632.03701</td>\n",
       "      <td>81.686038</td>\n",
       "      <td>13.027343</td>\n",
       "      <td>16.159576</td>\n",
       "      <td>15.632958</td>\n",
       "      <td>...</td>\n",
       "      <td>0.000492</td>\n",
       "      <td>0.043403</td>\n",
       "      <td>0.00000</td>\n",
       "      <td>0.004340</td>\n",
       "      <td>-0.28935</td>\n",
       "      <td>-0.300770</td>\n",
       "      <td>-0.014468</td>\n",
       "      <td>0.007958</td>\n",
       "      <td>0.000000</td>\n",
       "      <td>0.000000</td>\n",
       "    </tr>\n",
       "  </tbody>\n",
       "</table>\n",
       "<p>2 rows × 21 columns</p>\n",
       "</div>"
      ],
      "text/plain": [
       "   block_id  mean_sensor_00  mean_sensor_01  mean_sensor_02  mean_sensor_03  \\\n",
       "0       144        2.454769       45.694442        52.32205       44.826386   \n",
       "1       145        2.454572       45.815969        52.33073       44.900174   \n",
       "\n",
       "   mean_sensor_04  mean_sensor_05  mean_sensor_06  mean_sensor_07  \\\n",
       "0       634.57176       79.325703       13.093894       16.158127   \n",
       "1       632.03701       81.686038       13.027343       16.159576   \n",
       "\n",
       "   mean_sensor_08  ...  diff_sensor_00  diff_sensor_01  diff_sensor_02  \\\n",
       "0       15.633679  ...        0.000689       -0.008681         0.00434   \n",
       "1       15.632958  ...        0.000492        0.043403         0.00000   \n",
       "\n",
       "   diff_sensor_03  diff_sensor_04  diff_sensor_05  diff_sensor_06  \\\n",
       "0        0.008681         0.39353        0.409471        0.014468   \n",
       "1        0.004340        -0.28935       -0.300770       -0.014468   \n",
       "\n",
       "   diff_sensor_07  diff_sensor_08  diff_sensor_09  \n",
       "0       -0.007958        0.007957       -0.002894  \n",
       "1        0.007958        0.000000        0.000000  \n",
       "\n",
       "[2 rows x 21 columns]"
      ]
     },
     "execution_count": 10,
     "metadata": {},
     "output_type": "execute_result"
    }
   ],
   "source": [
    "## Split train test\n",
    "blockid_train = df_label['block_id'].values\n",
    "_train = feat_all['block_id'].isin(blockid_train)\n",
    "df_train = feat_all[_train].reset_index(drop=True)\n",
    "df_test = feat_all[~_train].reset_index(drop=True)\n",
    "\n",
    "df_train.head(2)"
   ]
  },
  {
   "cell_type": "code",
   "execution_count": 11,
   "id": "87b9aca4",
   "metadata": {},
   "outputs": [
    {
     "data": {
      "text/plain": [
       "(4624, 1157)"
      ]
     },
     "execution_count": 11,
     "metadata": {},
     "output_type": "execute_result"
    }
   ],
   "source": [
    "block_id = df_label['block_id'].values\n",
    "anomalous = df_label['anomalous'].values\n",
    "\n",
    "x_train, x_test, y_train, y_test = train_test_split(block_id, anomalous, test_size=0.2, random_state=42)\n",
    "\n",
    "len(x_train), len(x_test)"
   ]
  },
  {
   "cell_type": "code",
   "execution_count": 12,
   "id": "d34fcd03",
   "metadata": {},
   "outputs": [
    {
     "data": {
      "text/plain": [
       "(5781, 5781)"
      ]
     },
     "execution_count": 12,
     "metadata": {},
     "output_type": "execute_result"
    }
   ],
   "source": [
    "data_train = df_train[df_train['block_id'].isin(x_train)]\n",
    "data_val = df_train[df_train['block_id'].isin(x_test)]\n",
    "\n",
    "data_train_label = df_label[df_label['block_id'].isin(x_train)]\n",
    "data_val_label = df_label[df_label['block_id'].isin(x_test)]\n",
    "\n",
    "len(data_train) + len(data_val), len(data_train_label) + len(data_val_label)"
   ]
  },
  {
   "cell_type": "code",
   "execution_count": 13,
   "id": "24e44f72",
   "metadata": {},
   "outputs": [],
   "source": [
    "from sklearn.pipeline import make_pipeline\n",
    "from sklearn.preprocessing import StandardScaler, RobustScaler"
   ]
  },
  {
   "cell_type": "code",
   "execution_count": 14,
   "id": "eef8e516",
   "metadata": {},
   "outputs": [],
   "source": [
    "from sklearn.svm import SVC"
   ]
  },
  {
   "cell_type": "code",
   "execution_count": 15,
   "id": "461a6efa",
   "metadata": {},
   "outputs": [
    {
     "ename": "KeyError",
     "evalue": "\"['last_sensor_00', 'last_sensor_01', 'last_sensor_02', 'last_sensor_03', 'last_sensor_04', 'last_sensor_05', 'last_sensor_06', 'last_sensor_07', 'last_sensor_08', 'last_sensor_09'] not in index\"",
     "output_type": "error",
     "traceback": [
      "\u001b[0;31m---------------------------------------------------------------------------\u001b[0m",
      "\u001b[0;31mKeyError\u001b[0m                                  Traceback (most recent call last)",
      "\u001b[0;32m/tmp/ipykernel_9782/265872937.py\u001b[0m in \u001b[0;36m<module>\u001b[0;34m\u001b[0m\n\u001b[0;32m----> 1\u001b[0;31m \u001b[0mtrain\u001b[0m \u001b[0;34m=\u001b[0m \u001b[0mdata_train\u001b[0m\u001b[0;34m[\u001b[0m\u001b[0mnum_features\u001b[0m\u001b[0;34m]\u001b[0m\u001b[0;34m.\u001b[0m\u001b[0mvalues\u001b[0m\u001b[0;34m\u001b[0m\u001b[0;34m\u001b[0m\u001b[0m\n\u001b[0m\u001b[1;32m      2\u001b[0m \u001b[0mval\u001b[0m \u001b[0;34m=\u001b[0m \u001b[0mdata_val\u001b[0m\u001b[0;34m[\u001b[0m\u001b[0mnum_features\u001b[0m\u001b[0;34m]\u001b[0m\u001b[0;34m.\u001b[0m\u001b[0mvalues\u001b[0m\u001b[0;34m\u001b[0m\u001b[0;34m\u001b[0m\u001b[0m\n\u001b[1;32m      3\u001b[0m \u001b[0;34m\u001b[0m\u001b[0m\n\u001b[1;32m      4\u001b[0m \u001b[0my_train\u001b[0m \u001b[0;34m=\u001b[0m \u001b[0mdata_train_label\u001b[0m\u001b[0;34m[\u001b[0m\u001b[0;34m'anomalous'\u001b[0m\u001b[0;34m]\u001b[0m\u001b[0;34m.\u001b[0m\u001b[0mvalues\u001b[0m\u001b[0;34m\u001b[0m\u001b[0;34m\u001b[0m\u001b[0m\n\u001b[1;32m      5\u001b[0m \u001b[0my_val\u001b[0m \u001b[0;34m=\u001b[0m \u001b[0mdata_val_label\u001b[0m\u001b[0;34m[\u001b[0m\u001b[0;34m'anomalous'\u001b[0m\u001b[0;34m]\u001b[0m\u001b[0;34m.\u001b[0m\u001b[0mvalues\u001b[0m\u001b[0;34m\u001b[0m\u001b[0;34m\u001b[0m\u001b[0m\n",
      "\u001b[0;32m~/.local/lib/python3.8/site-packages/pandas/core/frame.py\u001b[0m in \u001b[0;36m__getitem__\u001b[0;34m(self, key)\u001b[0m\n\u001b[1;32m   3462\u001b[0m             \u001b[0;32mif\u001b[0m \u001b[0mis_iterator\u001b[0m\u001b[0;34m(\u001b[0m\u001b[0mkey\u001b[0m\u001b[0;34m)\u001b[0m\u001b[0;34m:\u001b[0m\u001b[0;34m\u001b[0m\u001b[0;34m\u001b[0m\u001b[0m\n\u001b[1;32m   3463\u001b[0m                 \u001b[0mkey\u001b[0m \u001b[0;34m=\u001b[0m \u001b[0mlist\u001b[0m\u001b[0;34m(\u001b[0m\u001b[0mkey\u001b[0m\u001b[0;34m)\u001b[0m\u001b[0;34m\u001b[0m\u001b[0;34m\u001b[0m\u001b[0m\n\u001b[0;32m-> 3464\u001b[0;31m             \u001b[0mindexer\u001b[0m \u001b[0;34m=\u001b[0m \u001b[0mself\u001b[0m\u001b[0;34m.\u001b[0m\u001b[0mloc\u001b[0m\u001b[0;34m.\u001b[0m\u001b[0m_get_listlike_indexer\u001b[0m\u001b[0;34m(\u001b[0m\u001b[0mkey\u001b[0m\u001b[0;34m,\u001b[0m \u001b[0maxis\u001b[0m\u001b[0;34m=\u001b[0m\u001b[0;36m1\u001b[0m\u001b[0;34m)\u001b[0m\u001b[0;34m[\u001b[0m\u001b[0;36m1\u001b[0m\u001b[0;34m]\u001b[0m\u001b[0;34m\u001b[0m\u001b[0;34m\u001b[0m\u001b[0m\n\u001b[0m\u001b[1;32m   3465\u001b[0m \u001b[0;34m\u001b[0m\u001b[0m\n\u001b[1;32m   3466\u001b[0m         \u001b[0;31m# take() does not accept boolean indexers\u001b[0m\u001b[0;34m\u001b[0m\u001b[0;34m\u001b[0m\u001b[0;34m\u001b[0m\u001b[0m\n",
      "\u001b[0;32m~/.local/lib/python3.8/site-packages/pandas/core/indexing.py\u001b[0m in \u001b[0;36m_get_listlike_indexer\u001b[0;34m(self, key, axis)\u001b[0m\n\u001b[1;32m   1312\u001b[0m             \u001b[0mkeyarr\u001b[0m\u001b[0;34m,\u001b[0m \u001b[0mindexer\u001b[0m\u001b[0;34m,\u001b[0m \u001b[0mnew_indexer\u001b[0m \u001b[0;34m=\u001b[0m \u001b[0max\u001b[0m\u001b[0;34m.\u001b[0m\u001b[0m_reindex_non_unique\u001b[0m\u001b[0;34m(\u001b[0m\u001b[0mkeyarr\u001b[0m\u001b[0;34m)\u001b[0m\u001b[0;34m\u001b[0m\u001b[0;34m\u001b[0m\u001b[0m\n\u001b[1;32m   1313\u001b[0m \u001b[0;34m\u001b[0m\u001b[0m\n\u001b[0;32m-> 1314\u001b[0;31m         \u001b[0mself\u001b[0m\u001b[0;34m.\u001b[0m\u001b[0m_validate_read_indexer\u001b[0m\u001b[0;34m(\u001b[0m\u001b[0mkeyarr\u001b[0m\u001b[0;34m,\u001b[0m \u001b[0mindexer\u001b[0m\u001b[0;34m,\u001b[0m \u001b[0maxis\u001b[0m\u001b[0;34m)\u001b[0m\u001b[0;34m\u001b[0m\u001b[0;34m\u001b[0m\u001b[0m\n\u001b[0m\u001b[1;32m   1315\u001b[0m \u001b[0;34m\u001b[0m\u001b[0m\n\u001b[1;32m   1316\u001b[0m         if needs_i8_conversion(ax.dtype) or isinstance(\n",
      "\u001b[0;32m~/.local/lib/python3.8/site-packages/pandas/core/indexing.py\u001b[0m in \u001b[0;36m_validate_read_indexer\u001b[0;34m(self, key, indexer, axis)\u001b[0m\n\u001b[1;32m   1375\u001b[0m \u001b[0;34m\u001b[0m\u001b[0m\n\u001b[1;32m   1376\u001b[0m             \u001b[0mnot_found\u001b[0m \u001b[0;34m=\u001b[0m \u001b[0mlist\u001b[0m\u001b[0;34m(\u001b[0m\u001b[0mensure_index\u001b[0m\u001b[0;34m(\u001b[0m\u001b[0mkey\u001b[0m\u001b[0;34m)\u001b[0m\u001b[0;34m[\u001b[0m\u001b[0mmissing_mask\u001b[0m\u001b[0;34m.\u001b[0m\u001b[0mnonzero\u001b[0m\u001b[0;34m(\u001b[0m\u001b[0;34m)\u001b[0m\u001b[0;34m[\u001b[0m\u001b[0;36m0\u001b[0m\u001b[0;34m]\u001b[0m\u001b[0;34m]\u001b[0m\u001b[0;34m.\u001b[0m\u001b[0munique\u001b[0m\u001b[0;34m(\u001b[0m\u001b[0;34m)\u001b[0m\u001b[0;34m)\u001b[0m\u001b[0;34m\u001b[0m\u001b[0;34m\u001b[0m\u001b[0m\n\u001b[0;32m-> 1377\u001b[0;31m             \u001b[0;32mraise\u001b[0m \u001b[0mKeyError\u001b[0m\u001b[0;34m(\u001b[0m\u001b[0;34mf\"{not_found} not in index\"\u001b[0m\u001b[0;34m)\u001b[0m\u001b[0;34m\u001b[0m\u001b[0;34m\u001b[0m\u001b[0m\n\u001b[0m\u001b[1;32m   1378\u001b[0m \u001b[0;34m\u001b[0m\u001b[0m\n\u001b[1;32m   1379\u001b[0m \u001b[0;34m\u001b[0m\u001b[0m\n",
      "\u001b[0;31mKeyError\u001b[0m: \"['last_sensor_00', 'last_sensor_01', 'last_sensor_02', 'last_sensor_03', 'last_sensor_04', 'last_sensor_05', 'last_sensor_06', 'last_sensor_07', 'last_sensor_08', 'last_sensor_09'] not in index\""
     ]
    }
   ],
   "source": [
    "train = data_train[num_features].values\n",
    "val = data_val[num_features].values\n",
    "\n",
    "y_train = data_train_label['anomalous'].values\n",
    "y_val = data_val_label['anomalous'].values"
   ]
  },
  {
   "cell_type": "code",
   "execution_count": 16,
   "id": "a29fd613",
   "metadata": {},
   "outputs": [
    {
     "ename": "NameError",
     "evalue": "name 'train' is not defined",
     "output_type": "error",
     "traceback": [
      "\u001b[0;31m---------------------------------------------------------------------------\u001b[0m",
      "\u001b[0;31mNameError\u001b[0m                                 Traceback (most recent call last)",
      "\u001b[0;32m/tmp/ipykernel_9782/3531203529.py\u001b[0m in \u001b[0;36m<module>\u001b[0;34m\u001b[0m\n\u001b[1;32m      1\u001b[0m \u001b[0mclf\u001b[0m \u001b[0;34m=\u001b[0m \u001b[0mmake_pipeline\u001b[0m\u001b[0;34m(\u001b[0m\u001b[0mRobustScaler\u001b[0m\u001b[0;34m(\u001b[0m\u001b[0;34m)\u001b[0m\u001b[0;34m,\u001b[0m \u001b[0mSVC\u001b[0m\u001b[0;34m(\u001b[0m\u001b[0mgamma\u001b[0m\u001b[0;34m=\u001b[0m\u001b[0;34m'auto'\u001b[0m\u001b[0;34m,\u001b[0m \u001b[0mprobability\u001b[0m\u001b[0;34m=\u001b[0m\u001b[0;32mTrue\u001b[0m\u001b[0;34m)\u001b[0m\u001b[0;34m)\u001b[0m\u001b[0;34m\u001b[0m\u001b[0;34m\u001b[0m\u001b[0m\n\u001b[0;32m----> 2\u001b[0;31m \u001b[0mclf\u001b[0m\u001b[0;34m.\u001b[0m\u001b[0mfit\u001b[0m\u001b[0;34m(\u001b[0m\u001b[0mtrain\u001b[0m\u001b[0;34m,\u001b[0m \u001b[0my_train\u001b[0m\u001b[0;34m)\u001b[0m\u001b[0;34m\u001b[0m\u001b[0;34m\u001b[0m\u001b[0m\n\u001b[0m",
      "\u001b[0;31mNameError\u001b[0m: name 'train' is not defined"
     ]
    }
   ],
   "source": [
    "clf = make_pipeline(RobustScaler(), SVC(gamma='auto', probability=True))\n",
    "clf.fit(train, y_train)"
   ]
  },
  {
   "cell_type": "code",
   "execution_count": 35,
   "id": "1987c0e3",
   "metadata": {},
   "outputs": [],
   "source": [
    "result = clf.predict_proba(val)"
   ]
  },
  {
   "cell_type": "code",
   "execution_count": 36,
   "id": "620095e7",
   "metadata": {},
   "outputs": [],
   "source": [
    "y_pred = 1 - result[:, 0]"
   ]
  },
  {
   "cell_type": "code",
   "execution_count": 37,
   "id": "f030c498",
   "metadata": {},
   "outputs": [],
   "source": [
    "val_metric = roc_auc_score(y_val, y_pred)"
   ]
  },
  {
   "cell_type": "code",
   "execution_count": 38,
   "id": "2dd27ef8",
   "metadata": {},
   "outputs": [
    {
     "data": {
      "text/plain": [
       "0.5676426183543621"
      ]
     },
     "execution_count": 38,
     "metadata": {},
     "output_type": "execute_result"
    }
   ],
   "source": [
    "val_metric"
   ]
  },
  {
   "cell_type": "code",
   "execution_count": null,
   "id": "1b7f527b",
   "metadata": {},
   "outputs": [],
   "source": []
  }
 ],
 "metadata": {
  "kernelspec": {
   "display_name": "Python 3 (ipykernel)",
   "language": "python",
   "name": "python3"
  },
  "language_info": {
   "codemirror_mode": {
    "name": "ipython",
    "version": 3
   },
   "file_extension": ".py",
   "mimetype": "text/x-python",
   "name": "python",
   "nbconvert_exporter": "python",
   "pygments_lexer": "ipython3",
   "version": "3.8.12"
  }
 },
 "nbformat": 4,
 "nbformat_minor": 5
}
