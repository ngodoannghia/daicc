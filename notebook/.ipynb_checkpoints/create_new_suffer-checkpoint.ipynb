{
 "cells": [
  {
   "cell_type": "code",
   "execution_count": 41,
   "id": "815f5122",
   "metadata": {},
   "outputs": [],
   "source": [
    "import pandas as pd\n",
    "from tqdm import tqdm"
   ]
  },
  {
   "cell_type": "code",
   "execution_count": 42,
   "id": "51896add",
   "metadata": {},
   "outputs": [],
   "source": [
    "data_train = pd.read_csv('../analysis/train.csv')\n",
    "label_train = pd.read_csv('../analysis/train_label.csv')"
   ]
  },
  {
   "cell_type": "code",
   "execution_count": 43,
   "id": "98df09f6",
   "metadata": {},
   "outputs": [
    {
     "data": {
      "text/html": [
       "<div>\n",
       "<style scoped>\n",
       "    .dataframe tbody tr th:only-of-type {\n",
       "        vertical-align: middle;\n",
       "    }\n",
       "\n",
       "    .dataframe tbody tr th {\n",
       "        vertical-align: top;\n",
       "    }\n",
       "\n",
       "    .dataframe thead th {\n",
       "        text-align: right;\n",
       "    }\n",
       "</style>\n",
       "<table border=\"1\" class=\"dataframe\">\n",
       "  <thead>\n",
       "    <tr style=\"text-align: right;\">\n",
       "      <th></th>\n",
       "      <th>timestamp</th>\n",
       "      <th>block_id</th>\n",
       "      <th>sensor_00</th>\n",
       "      <th>sensor_01</th>\n",
       "      <th>sensor_02</th>\n",
       "      <th>sensor_03</th>\n",
       "      <th>sensor_04</th>\n",
       "      <th>sensor_05</th>\n",
       "      <th>sensor_06</th>\n",
       "      <th>sensor_07</th>\n",
       "      <th>sensor_08</th>\n",
       "      <th>sensor_09</th>\n",
       "    </tr>\n",
       "  </thead>\n",
       "  <tbody>\n",
       "    <tr>\n",
       "      <th>0</th>\n",
       "      <td>2018-04-02 00:00:00</td>\n",
       "      <td>144</td>\n",
       "      <td>2.459491</td>\n",
       "      <td>45.83333</td>\n",
       "      <td>52.34375</td>\n",
       "      <td>44.791664</td>\n",
       "      <td>639.5833</td>\n",
       "      <td>78.57581</td>\n",
       "      <td>13.09317</td>\n",
       "      <td>16.16753</td>\n",
       "      <td>15.49479</td>\n",
       "      <td>15.11863</td>\n",
       "    </tr>\n",
       "    <tr>\n",
       "      <th>1</th>\n",
       "      <td>2018-04-02 00:01:00</td>\n",
       "      <td>144</td>\n",
       "      <td>2.459491</td>\n",
       "      <td>45.83333</td>\n",
       "      <td>52.34375</td>\n",
       "      <td>44.791664</td>\n",
       "      <td>639.5833</td>\n",
       "      <td>78.57581</td>\n",
       "      <td>13.09317</td>\n",
       "      <td>16.16753</td>\n",
       "      <td>15.49479</td>\n",
       "      <td>15.11863</td>\n",
       "    </tr>\n",
       "    <tr>\n",
       "      <th>2</th>\n",
       "      <td>2018-04-02 00:02:00</td>\n",
       "      <td>144</td>\n",
       "      <td>2.449653</td>\n",
       "      <td>45.74652</td>\n",
       "      <td>52.30035</td>\n",
       "      <td>44.791664</td>\n",
       "      <td>634.8380</td>\n",
       "      <td>79.06493</td>\n",
       "      <td>13.12211</td>\n",
       "      <td>16.13136</td>\n",
       "      <td>15.56713</td>\n",
       "      <td>15.11863</td>\n",
       "    </tr>\n",
       "    <tr>\n",
       "      <th>3</th>\n",
       "      <td>2018-04-02 00:03:00</td>\n",
       "      <td>144</td>\n",
       "      <td>2.464410</td>\n",
       "      <td>45.83333</td>\n",
       "      <td>52.30035</td>\n",
       "      <td>44.791664</td>\n",
       "      <td>632.1759</td>\n",
       "      <td>80.07732</td>\n",
       "      <td>13.05700</td>\n",
       "      <td>16.13136</td>\n",
       "      <td>15.49479</td>\n",
       "      <td>15.08247</td>\n",
       "    </tr>\n",
       "    <tr>\n",
       "      <th>4</th>\n",
       "      <td>2018-04-02 00:04:00</td>\n",
       "      <td>144</td>\n",
       "      <td>2.444734</td>\n",
       "      <td>45.61632</td>\n",
       "      <td>52.34375</td>\n",
       "      <td>44.791664</td>\n",
       "      <td>638.3102</td>\n",
       "      <td>77.70200</td>\n",
       "      <td>13.14381</td>\n",
       "      <td>16.13136</td>\n",
       "      <td>15.81308</td>\n",
       "      <td>15.11863</td>\n",
       "    </tr>\n",
       "  </tbody>\n",
       "</table>\n",
       "</div>"
      ],
      "text/plain": [
       "             timestamp  block_id  sensor_00  sensor_01  sensor_02  sensor_03  \\\n",
       "0  2018-04-02 00:00:00       144   2.459491   45.83333   52.34375  44.791664   \n",
       "1  2018-04-02 00:01:00       144   2.459491   45.83333   52.34375  44.791664   \n",
       "2  2018-04-02 00:02:00       144   2.449653   45.74652   52.30035  44.791664   \n",
       "3  2018-04-02 00:03:00       144   2.464410   45.83333   52.30035  44.791664   \n",
       "4  2018-04-02 00:04:00       144   2.444734   45.61632   52.34375  44.791664   \n",
       "\n",
       "   sensor_04  sensor_05  sensor_06  sensor_07  sensor_08  sensor_09  \n",
       "0   639.5833   78.57581   13.09317   16.16753   15.49479   15.11863  \n",
       "1   639.5833   78.57581   13.09317   16.16753   15.49479   15.11863  \n",
       "2   634.8380   79.06493   13.12211   16.13136   15.56713   15.11863  \n",
       "3   632.1759   80.07732   13.05700   16.13136   15.49479   15.08247  \n",
       "4   638.3102   77.70200   13.14381   16.13136   15.81308   15.11863  "
      ]
     },
     "execution_count": 43,
     "metadata": {},
     "output_type": "execute_result"
    }
   ],
   "source": [
    "data_train.head()"
   ]
  },
  {
   "cell_type": "code",
   "execution_count": 44,
   "id": "82fb74de",
   "metadata": {},
   "outputs": [
    {
     "data": {
      "text/plain": [
       "131"
      ]
     },
     "execution_count": 44,
     "metadata": {},
     "output_type": "execute_result"
    }
   ],
   "source": [
    "block_id = label_train[label_train['anomalous'] == 1]['block_id'].values\n",
    "len(block_id)"
   ]
  },
  {
   "cell_type": "code",
   "execution_count": 45,
   "id": "fa725380",
   "metadata": {},
   "outputs": [
    {
     "name": "stderr",
     "output_type": "stream",
     "text": [
      "100%|█████████████████████████████████████████| 131/131 [00:01<00:00, 85.57it/s]\n"
     ]
    }
   ],
   "source": [
    "df = pd.DataFrame(columns=[list(data_train.columns)])\n",
    "lb = pd.DataFrame(columns=[list(label_train.columns)])\n",
    "for b in tqdm(block_id):\n",
    "    for i in range(0, 40, 4):\n",
    "        tmp = data_train[data_train['block_id'] == b]\n",
    "        tmp_suffle = tmp.sample(n=len(tmp), random_state=i)\n",
    "        if len(df) == 0:\n",
    "            df = tmp\n",
    "            df = pd.concat([df, tmp_suffle], axis=0)\n",
    "        else:\n",
    "            df = pd.concat([df, tmp], axis=0)\n",
    "            df = pd.concat([df, tmp_suffle], axis=0)\n",
    "        \n",
    "        tmp_lb = label_train[label_train['block_id'] == b]\n",
    "        if len(lb) == 0:\n",
    "            lb = tmp_lb\n",
    "            lb = pd.concat([lb, tmp_lb], axis=0)\n",
    "        else:\n",
    "            lb = pd.concat([lb, tmp_lb], axis=0)\n",
    "            lb = pd.concat([lb, tmp_lb], axis=0)"
   ]
  },
  {
   "cell_type": "code",
   "execution_count": 46,
   "id": "8179b4a2",
   "metadata": {},
   "outputs": [],
   "source": [
    "data_train_suffle = pd.concat([data_train, df])\n",
    "label_train_suffle = pd.concat([label_train, lb])"
   ]
  },
  {
   "cell_type": "code",
   "execution_count": 47,
   "id": "c8185b87",
   "metadata": {},
   "outputs": [],
   "source": [
    "data_train_suffle.to_csv('../analysis/sample/data_train_suffle.csv', index=False)\n",
    "label_train_suffle.to_csv('../analysis/sample/label_train_suffle.csv', index=False)"
   ]
  },
  {
   "cell_type": "code",
   "execution_count": null,
   "id": "8812fd8c",
   "metadata": {},
   "outputs": [],
   "source": []
  }
 ],
 "metadata": {
  "kernelspec": {
   "display_name": "Python 3 (ipykernel)",
   "language": "python",
   "name": "python3"
  },
  "language_info": {
   "codemirror_mode": {
    "name": "ipython",
    "version": 3
   },
   "file_extension": ".py",
   "mimetype": "text/x-python",
   "name": "python",
   "nbconvert_exporter": "python",
   "pygments_lexer": "ipython3",
   "version": "3.8.12"
  }
 },
 "nbformat": 4,
 "nbformat_minor": 5
}
