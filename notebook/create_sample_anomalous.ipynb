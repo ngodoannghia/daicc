{
 "cells": [
  {
   "cell_type": "code",
   "execution_count": 179,
   "id": "45061907",
   "metadata": {},
   "outputs": [],
   "source": [
    "import pandas as pd\n",
    "import numpy as np"
   ]
  },
  {
   "cell_type": "code",
   "execution_count": 200,
   "id": "50081369",
   "metadata": {},
   "outputs": [],
   "source": [
    "df_train = pd.read_csv('../analysis/train.csv')\n",
    "df_label_train = pd.read_csv('../analysis/train_label.csv')\n",
    "df_sensor_log = pd.read_csv('../data/sensor_log.csv')"
   ]
  },
  {
   "cell_type": "code",
   "execution_count": 208,
   "id": "c5c51912",
   "metadata": {},
   "outputs": [
    {
     "data": {
      "text/plain": [
       "19283"
      ]
     },
     "execution_count": 208,
     "metadata": {},
     "output_type": "execute_result"
    }
   ],
   "source": [
    "offset = np.max(df_sensor_log['block_id'].values) + 1\n",
    "offset"
   ]
  },
  {
   "cell_type": "code",
   "execution_count": 202,
   "id": "8cef9514",
   "metadata": {},
   "outputs": [],
   "source": [
    "block_id_anomalous = df_label_train[df_label_train['anomalous'] == 1]['block_id'].values"
   ]
  },
  {
   "cell_type": "code",
   "execution_count": 203,
   "id": "cc7af7b7",
   "metadata": {},
   "outputs": [],
   "source": [
    "df_anomalous = df_train[df_train['block_id'].isin(block_id_anomalous)]"
   ]
  },
  {
   "cell_type": "code",
   "execution_count": 204,
   "id": "d7fd0e49",
   "metadata": {},
   "outputs": [],
   "source": [
    "df_desc = df_anomalous.describe()"
   ]
  },
  {
   "cell_type": "code",
   "execution_count": 205,
   "id": "831fa1d2",
   "metadata": {},
   "outputs": [
    {
     "data": {
      "text/html": [
       "<div>\n",
       "<style scoped>\n",
       "    .dataframe tbody tr th:only-of-type {\n",
       "        vertical-align: middle;\n",
       "    }\n",
       "\n",
       "    .dataframe tbody tr th {\n",
       "        vertical-align: top;\n",
       "    }\n",
       "\n",
       "    .dataframe thead th {\n",
       "        text-align: right;\n",
       "    }\n",
       "</style>\n",
       "<table border=\"1\" class=\"dataframe\">\n",
       "  <thead>\n",
       "    <tr style=\"text-align: right;\">\n",
       "      <th></th>\n",
       "      <th>block_id</th>\n",
       "      <th>sensor_00</th>\n",
       "      <th>sensor_01</th>\n",
       "      <th>sensor_02</th>\n",
       "      <th>sensor_03</th>\n",
       "      <th>sensor_04</th>\n",
       "      <th>sensor_05</th>\n",
       "      <th>sensor_06</th>\n",
       "      <th>sensor_07</th>\n",
       "      <th>sensor_08</th>\n",
       "      <th>sensor_09</th>\n",
       "    </tr>\n",
       "  </thead>\n",
       "  <tbody>\n",
       "    <tr>\n",
       "      <th>count</th>\n",
       "      <td>1310.000000</td>\n",
       "      <td>1310.000000</td>\n",
       "      <td>1310.000000</td>\n",
       "      <td>1310.000000</td>\n",
       "      <td>1310.000000</td>\n",
       "      <td>1310.000000</td>\n",
       "      <td>1310.000000</td>\n",
       "      <td>1310.000000</td>\n",
       "      <td>1310.000000</td>\n",
       "      <td>1310.000000</td>\n",
       "      <td>1310.000000</td>\n",
       "    </tr>\n",
       "    <tr>\n",
       "      <th>mean</th>\n",
       "      <td>8895.374046</td>\n",
       "      <td>2.447115</td>\n",
       "      <td>48.171005</td>\n",
       "      <td>52.139468</td>\n",
       "      <td>44.318828</td>\n",
       "      <td>630.680153</td>\n",
       "      <td>74.994393</td>\n",
       "      <td>13.799454</td>\n",
       "      <td>16.153960</td>\n",
       "      <td>15.449343</td>\n",
       "      <td>15.131636</td>\n",
       "    </tr>\n",
       "    <tr>\n",
       "      <th>std</th>\n",
       "      <td>5470.346861</td>\n",
       "      <td>0.211745</td>\n",
       "      <td>1.704151</td>\n",
       "      <td>1.505023</td>\n",
       "      <td>1.509306</td>\n",
       "      <td>38.456865</td>\n",
       "      <td>9.954861</td>\n",
       "      <td>0.999794</td>\n",
       "      <td>0.358564</td>\n",
       "      <td>0.381017</td>\n",
       "      <td>0.223266</td>\n",
       "    </tr>\n",
       "    <tr>\n",
       "      <th>min</th>\n",
       "      <td>197.000000</td>\n",
       "      <td>0.000000</td>\n",
       "      <td>40.104160</td>\n",
       "      <td>45.182290</td>\n",
       "      <td>40.190970</td>\n",
       "      <td>200.558441</td>\n",
       "      <td>0.000000</td>\n",
       "      <td>3.009259</td>\n",
       "      <td>14.712438</td>\n",
       "      <td>14.456552</td>\n",
       "      <td>14.147890</td>\n",
       "    </tr>\n",
       "    <tr>\n",
       "      <th>25%</th>\n",
       "      <td>4437.000000</td>\n",
       "      <td>2.450637</td>\n",
       "      <td>47.178820</td>\n",
       "      <td>51.176517</td>\n",
       "      <td>43.402775</td>\n",
       "      <td>629.629600</td>\n",
       "      <td>71.200263</td>\n",
       "      <td>13.418690</td>\n",
       "      <td>15.957750</td>\n",
       "      <td>15.183740</td>\n",
       "      <td>15.053530</td>\n",
       "    </tr>\n",
       "  </tbody>\n",
       "</table>\n",
       "</div>"
      ],
      "text/plain": [
       "          block_id    sensor_00    sensor_01    sensor_02    sensor_03  \\\n",
       "count  1310.000000  1310.000000  1310.000000  1310.000000  1310.000000   \n",
       "mean   8895.374046     2.447115    48.171005    52.139468    44.318828   \n",
       "std    5470.346861     0.211745     1.704151     1.505023     1.509306   \n",
       "min     197.000000     0.000000    40.104160    45.182290    40.190970   \n",
       "25%    4437.000000     2.450637    47.178820    51.176517    43.402775   \n",
       "\n",
       "         sensor_04    sensor_05    sensor_06    sensor_07    sensor_08  \\\n",
       "count  1310.000000  1310.000000  1310.000000  1310.000000  1310.000000   \n",
       "mean    630.680153    74.994393    13.799454    16.153960    15.449343   \n",
       "std      38.456865     9.954861     0.999794     0.358564     0.381017   \n",
       "min     200.558441     0.000000     3.009259    14.712438    14.456552   \n",
       "25%     629.629600    71.200263    13.418690    15.957750    15.183740   \n",
       "\n",
       "         sensor_09  \n",
       "count  1310.000000  \n",
       "mean     15.131636  \n",
       "std       0.223266  \n",
       "min      14.147890  \n",
       "25%      15.053530  "
      ]
     },
     "execution_count": 205,
     "metadata": {},
     "output_type": "execute_result"
    }
   ],
   "source": [
    "df_desc.head()"
   ]
  },
  {
   "cell_type": "code",
   "execution_count": 206,
   "id": "616831f8",
   "metadata": {},
   "outputs": [],
   "source": [
    "mean = df_desc.loc['mean'].values[1:]\n",
    "std = df_desc.loc['std'].values[1:]"
   ]
  },
  {
   "cell_type": "code",
   "execution_count": 227,
   "id": "a88211d7",
   "metadata": {},
   "outputs": [
    {
     "data": {
      "text/plain": [
       "(10000, 10)"
      ]
     },
     "execution_count": 227,
     "metadata": {},
     "output_type": "execute_result"
    }
   ],
   "source": [
    "data = []\n",
    "for m, s in zip(mean, std):\n",
    "    sample = np.random.normal(m, s, 10000).reshape(-1, 1)\n",
    "    data.append(sample)\n",
    "data = np.hstack(data)\n",
    "data.shape"
   ]
  },
  {
   "cell_type": "code",
   "execution_count": 212,
   "id": "acf2159d",
   "metadata": {},
   "outputs": [
    {
     "data": {
      "text/plain": [
       "(1000, 10, 10)"
      ]
     },
     "execution_count": 212,
     "metadata": {},
     "output_type": "execute_result"
    }
   ],
   "source": [
    "data = data.reshape(-1, 10, 10)\n",
    "data.shape"
   ]
  },
  {
   "cell_type": "code",
   "execution_count": 213,
   "id": "4896fd66",
   "metadata": {},
   "outputs": [],
   "source": [
    "num_feats = df_sensor_log.columns.to_list()[2:]\n",
    "df_feat = pd.DataFrame(columns=num_feats)"
   ]
  },
  {
   "cell_type": "code",
   "execution_count": 223,
   "id": "c62b6aec",
   "metadata": {},
   "outputs": [],
   "source": [
    "block_id = []\n",
    "for i in range(data.shape[0]):\n",
    "    block_id.append(offset + i)"
   ]
  },
  {
   "cell_type": "code",
   "execution_count": 224,
   "id": "471ea7dc",
   "metadata": {},
   "outputs": [],
   "source": [
    "data_block_id = np.array(block_id)[:, None]\n",
    "data_block_id = np.repeat(data_block_id, 10, 1)\n",
    "data_block_id = data_block_id.reshape(-1)\n",
    "\n",
    "data_timestamp = ['2018-04-01 00:00:00'] * 10000"
   ]
  },
  {
   "cell_type": "code",
   "execution_count": 225,
   "id": "40cdbae5",
   "metadata": {},
   "outputs": [
    {
     "data": {
      "text/html": [
       "<div>\n",
       "<style scoped>\n",
       "    .dataframe tbody tr th:only-of-type {\n",
       "        vertical-align: middle;\n",
       "    }\n",
       "\n",
       "    .dataframe tbody tr th {\n",
       "        vertical-align: top;\n",
       "    }\n",
       "\n",
       "    .dataframe thead th {\n",
       "        text-align: right;\n",
       "    }\n",
       "</style>\n",
       "<table border=\"1\" class=\"dataframe\">\n",
       "  <thead>\n",
       "    <tr style=\"text-align: right;\">\n",
       "      <th></th>\n",
       "      <th>timestamp</th>\n",
       "      <th>block_id</th>\n",
       "    </tr>\n",
       "  </thead>\n",
       "  <tbody>\n",
       "    <tr>\n",
       "      <th>0</th>\n",
       "      <td>2018-04-01 00:00:00</td>\n",
       "      <td>19283</td>\n",
       "    </tr>\n",
       "    <tr>\n",
       "      <th>1</th>\n",
       "      <td>2018-04-01 00:00:00</td>\n",
       "      <td>19283</td>\n",
       "    </tr>\n",
       "    <tr>\n",
       "      <th>2</th>\n",
       "      <td>2018-04-01 00:00:00</td>\n",
       "      <td>19283</td>\n",
       "    </tr>\n",
       "    <tr>\n",
       "      <th>3</th>\n",
       "      <td>2018-04-01 00:00:00</td>\n",
       "      <td>19283</td>\n",
       "    </tr>\n",
       "    <tr>\n",
       "      <th>4</th>\n",
       "      <td>2018-04-01 00:00:00</td>\n",
       "      <td>19283</td>\n",
       "    </tr>\n",
       "  </tbody>\n",
       "</table>\n",
       "</div>"
      ],
      "text/plain": [
       "             timestamp  block_id\n",
       "0  2018-04-01 00:00:00     19283\n",
       "1  2018-04-01 00:00:00     19283\n",
       "2  2018-04-01 00:00:00     19283\n",
       "3  2018-04-01 00:00:00     19283\n",
       "4  2018-04-01 00:00:00     19283"
      ]
     },
     "execution_count": 225,
     "metadata": {},
     "output_type": "execute_result"
    }
   ],
   "source": [
    "df_block_time = pd.DataFrame(data={\n",
    "    'timestamp': data_timestamp,\n",
    "    'block_id': data_block_id\n",
    "})\n",
    "df_block_time.head()"
   ]
  },
  {
   "cell_type": "code",
   "execution_count": 228,
   "id": "794ea895",
   "metadata": {},
   "outputs": [
    {
     "data": {
      "text/html": [
       "<div>\n",
       "<style scoped>\n",
       "    .dataframe tbody tr th:only-of-type {\n",
       "        vertical-align: middle;\n",
       "    }\n",
       "\n",
       "    .dataframe tbody tr th {\n",
       "        vertical-align: top;\n",
       "    }\n",
       "\n",
       "    .dataframe thead th {\n",
       "        text-align: right;\n",
       "    }\n",
       "</style>\n",
       "<table border=\"1\" class=\"dataframe\">\n",
       "  <thead>\n",
       "    <tr style=\"text-align: right;\">\n",
       "      <th></th>\n",
       "      <th>sensor_00</th>\n",
       "      <th>sensor_01</th>\n",
       "      <th>sensor_02</th>\n",
       "      <th>sensor_03</th>\n",
       "      <th>sensor_04</th>\n",
       "      <th>sensor_05</th>\n",
       "      <th>sensor_06</th>\n",
       "      <th>sensor_07</th>\n",
       "      <th>sensor_08</th>\n",
       "      <th>sensor_09</th>\n",
       "    </tr>\n",
       "  </thead>\n",
       "  <tbody>\n",
       "    <tr>\n",
       "      <th>0</th>\n",
       "      <td>2.443477</td>\n",
       "      <td>48.680898</td>\n",
       "      <td>50.504485</td>\n",
       "      <td>45.452339</td>\n",
       "      <td>618.457305</td>\n",
       "      <td>56.571440</td>\n",
       "      <td>13.709435</td>\n",
       "      <td>15.835443</td>\n",
       "      <td>15.559798</td>\n",
       "      <td>15.142161</td>\n",
       "    </tr>\n",
       "    <tr>\n",
       "      <th>1</th>\n",
       "      <td>2.263859</td>\n",
       "      <td>49.228748</td>\n",
       "      <td>51.437323</td>\n",
       "      <td>43.456435</td>\n",
       "      <td>649.474994</td>\n",
       "      <td>80.262261</td>\n",
       "      <td>13.990597</td>\n",
       "      <td>16.631511</td>\n",
       "      <td>15.673469</td>\n",
       "      <td>14.873253</td>\n",
       "    </tr>\n",
       "    <tr>\n",
       "      <th>2</th>\n",
       "      <td>2.600869</td>\n",
       "      <td>46.965823</td>\n",
       "      <td>53.121143</td>\n",
       "      <td>43.172117</td>\n",
       "      <td>611.938201</td>\n",
       "      <td>87.063616</td>\n",
       "      <td>13.489349</td>\n",
       "      <td>16.441751</td>\n",
       "      <td>15.270024</td>\n",
       "      <td>15.327701</td>\n",
       "    </tr>\n",
       "    <tr>\n",
       "      <th>3</th>\n",
       "      <td>2.458276</td>\n",
       "      <td>47.100368</td>\n",
       "      <td>51.946741</td>\n",
       "      <td>42.236402</td>\n",
       "      <td>626.461171</td>\n",
       "      <td>72.586921</td>\n",
       "      <td>12.357139</td>\n",
       "      <td>16.316415</td>\n",
       "      <td>15.687014</td>\n",
       "      <td>14.757318</td>\n",
       "    </tr>\n",
       "    <tr>\n",
       "      <th>4</th>\n",
       "      <td>2.323883</td>\n",
       "      <td>47.830747</td>\n",
       "      <td>50.832909</td>\n",
       "      <td>44.339837</td>\n",
       "      <td>576.113791</td>\n",
       "      <td>74.208547</td>\n",
       "      <td>13.807148</td>\n",
       "      <td>16.250277</td>\n",
       "      <td>14.888644</td>\n",
       "      <td>15.080641</td>\n",
       "    </tr>\n",
       "  </tbody>\n",
       "</table>\n",
       "</div>"
      ],
      "text/plain": [
       "   sensor_00  sensor_01  sensor_02  sensor_03   sensor_04  sensor_05  \\\n",
       "0   2.443477  48.680898  50.504485  45.452339  618.457305  56.571440   \n",
       "1   2.263859  49.228748  51.437323  43.456435  649.474994  80.262261   \n",
       "2   2.600869  46.965823  53.121143  43.172117  611.938201  87.063616   \n",
       "3   2.458276  47.100368  51.946741  42.236402  626.461171  72.586921   \n",
       "4   2.323883  47.830747  50.832909  44.339837  576.113791  74.208547   \n",
       "\n",
       "   sensor_06  sensor_07  sensor_08  sensor_09  \n",
       "0  13.709435  15.835443  15.559798  15.142161  \n",
       "1  13.990597  16.631511  15.673469  14.873253  \n",
       "2  13.489349  16.441751  15.270024  15.327701  \n",
       "3  12.357139  16.316415  15.687014  14.757318  \n",
       "4  13.807148  16.250277  14.888644  15.080641  "
      ]
     },
     "execution_count": 228,
     "metadata": {},
     "output_type": "execute_result"
    }
   ],
   "source": [
    "df_data = pd.DataFrame(columns=num_feats, data=data)\n",
    "df_data.head()"
   ]
  },
  {
   "cell_type": "code",
   "execution_count": 229,
   "id": "dd580d8a",
   "metadata": {},
   "outputs": [
    {
     "data": {
      "text/html": [
       "<div>\n",
       "<style scoped>\n",
       "    .dataframe tbody tr th:only-of-type {\n",
       "        vertical-align: middle;\n",
       "    }\n",
       "\n",
       "    .dataframe tbody tr th {\n",
       "        vertical-align: top;\n",
       "    }\n",
       "\n",
       "    .dataframe thead th {\n",
       "        text-align: right;\n",
       "    }\n",
       "</style>\n",
       "<table border=\"1\" class=\"dataframe\">\n",
       "  <thead>\n",
       "    <tr style=\"text-align: right;\">\n",
       "      <th></th>\n",
       "      <th>timestamp</th>\n",
       "      <th>block_id</th>\n",
       "      <th>sensor_00</th>\n",
       "      <th>sensor_01</th>\n",
       "      <th>sensor_02</th>\n",
       "      <th>sensor_03</th>\n",
       "      <th>sensor_04</th>\n",
       "      <th>sensor_05</th>\n",
       "      <th>sensor_06</th>\n",
       "      <th>sensor_07</th>\n",
       "      <th>sensor_08</th>\n",
       "      <th>sensor_09</th>\n",
       "    </tr>\n",
       "  </thead>\n",
       "  <tbody>\n",
       "    <tr>\n",
       "      <th>0</th>\n",
       "      <td>2018-04-01 00:00:00</td>\n",
       "      <td>19283</td>\n",
       "      <td>2.443477</td>\n",
       "      <td>48.680898</td>\n",
       "      <td>50.504485</td>\n",
       "      <td>45.452339</td>\n",
       "      <td>618.457305</td>\n",
       "      <td>56.571440</td>\n",
       "      <td>13.709435</td>\n",
       "      <td>15.835443</td>\n",
       "      <td>15.559798</td>\n",
       "      <td>15.142161</td>\n",
       "    </tr>\n",
       "    <tr>\n",
       "      <th>1</th>\n",
       "      <td>2018-04-01 00:00:00</td>\n",
       "      <td>19283</td>\n",
       "      <td>2.263859</td>\n",
       "      <td>49.228748</td>\n",
       "      <td>51.437323</td>\n",
       "      <td>43.456435</td>\n",
       "      <td>649.474994</td>\n",
       "      <td>80.262261</td>\n",
       "      <td>13.990597</td>\n",
       "      <td>16.631511</td>\n",
       "      <td>15.673469</td>\n",
       "      <td>14.873253</td>\n",
       "    </tr>\n",
       "    <tr>\n",
       "      <th>2</th>\n",
       "      <td>2018-04-01 00:00:00</td>\n",
       "      <td>19283</td>\n",
       "      <td>2.600869</td>\n",
       "      <td>46.965823</td>\n",
       "      <td>53.121143</td>\n",
       "      <td>43.172117</td>\n",
       "      <td>611.938201</td>\n",
       "      <td>87.063616</td>\n",
       "      <td>13.489349</td>\n",
       "      <td>16.441751</td>\n",
       "      <td>15.270024</td>\n",
       "      <td>15.327701</td>\n",
       "    </tr>\n",
       "    <tr>\n",
       "      <th>3</th>\n",
       "      <td>2018-04-01 00:00:00</td>\n",
       "      <td>19283</td>\n",
       "      <td>2.458276</td>\n",
       "      <td>47.100368</td>\n",
       "      <td>51.946741</td>\n",
       "      <td>42.236402</td>\n",
       "      <td>626.461171</td>\n",
       "      <td>72.586921</td>\n",
       "      <td>12.357139</td>\n",
       "      <td>16.316415</td>\n",
       "      <td>15.687014</td>\n",
       "      <td>14.757318</td>\n",
       "    </tr>\n",
       "    <tr>\n",
       "      <th>4</th>\n",
       "      <td>2018-04-01 00:00:00</td>\n",
       "      <td>19283</td>\n",
       "      <td>2.323883</td>\n",
       "      <td>47.830747</td>\n",
       "      <td>50.832909</td>\n",
       "      <td>44.339837</td>\n",
       "      <td>576.113791</td>\n",
       "      <td>74.208547</td>\n",
       "      <td>13.807148</td>\n",
       "      <td>16.250277</td>\n",
       "      <td>14.888644</td>\n",
       "      <td>15.080641</td>\n",
       "    </tr>\n",
       "  </tbody>\n",
       "</table>\n",
       "</div>"
      ],
      "text/plain": [
       "             timestamp  block_id  sensor_00  sensor_01  sensor_02  sensor_03  \\\n",
       "0  2018-04-01 00:00:00     19283   2.443477  48.680898  50.504485  45.452339   \n",
       "1  2018-04-01 00:00:00     19283   2.263859  49.228748  51.437323  43.456435   \n",
       "2  2018-04-01 00:00:00     19283   2.600869  46.965823  53.121143  43.172117   \n",
       "3  2018-04-01 00:00:00     19283   2.458276  47.100368  51.946741  42.236402   \n",
       "4  2018-04-01 00:00:00     19283   2.323883  47.830747  50.832909  44.339837   \n",
       "\n",
       "    sensor_04  sensor_05  sensor_06  sensor_07  sensor_08  sensor_09  \n",
       "0  618.457305  56.571440  13.709435  15.835443  15.559798  15.142161  \n",
       "1  649.474994  80.262261  13.990597  16.631511  15.673469  14.873253  \n",
       "2  611.938201  87.063616  13.489349  16.441751  15.270024  15.327701  \n",
       "3  626.461171  72.586921  12.357139  16.316415  15.687014  14.757318  \n",
       "4  576.113791  74.208547  13.807148  16.250277  14.888644  15.080641  "
      ]
     },
     "execution_count": 229,
     "metadata": {},
     "output_type": "execute_result"
    }
   ],
   "source": [
    "df_all = pd.concat([df_block_time, df_data], axis=1)\n",
    "df_all.head()"
   ]
  },
  {
   "cell_type": "code",
   "execution_count": 230,
   "id": "8f562f28",
   "metadata": {},
   "outputs": [],
   "source": [
    "df_label = pd.DataFrame(columns=df_label_train.columns.to_list())"
   ]
  },
  {
   "cell_type": "code",
   "execution_count": 232,
   "id": "bb412d5d",
   "metadata": {},
   "outputs": [],
   "source": [
    "df_label['block_id'] = block_id\n",
    "df_label['anomalous'] = [1] * 1000"
   ]
  },
  {
   "cell_type": "code",
   "execution_count": 234,
   "id": "59610554",
   "metadata": {},
   "outputs": [],
   "source": [
    "df_all.to_csv('../analysis/new_data/new_data.csv', index=False)\n",
    "df_label.to_csv('../analysis/new_data/df_new_data_label.csv', index=False)"
   ]
  },
  {
   "cell_type": "code",
   "execution_count": null,
   "id": "646bf67d",
   "metadata": {},
   "outputs": [],
   "source": []
  }
 ],
 "metadata": {
  "kernelspec": {
   "display_name": "Python 3 (ipykernel)",
   "language": "python",
   "name": "python3"
  },
  "language_info": {
   "codemirror_mode": {
    "name": "ipython",
    "version": 3
   },
   "file_extension": ".py",
   "mimetype": "text/x-python",
   "name": "python",
   "nbconvert_exporter": "python",
   "pygments_lexer": "ipython3",
   "version": "3.8.12"
  }
 },
 "nbformat": 4,
 "nbformat_minor": 5
}
