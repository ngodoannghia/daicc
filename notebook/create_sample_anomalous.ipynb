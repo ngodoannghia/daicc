{
 "cells": [
  {
   "cell_type": "code",
   "execution_count": 135,
   "id": "2065f520",
   "metadata": {},
   "outputs": [],
   "source": [
    "import pandas as pd\n",
    "import numpy as np"
   ]
  },
  {
   "cell_type": "code",
   "execution_count": 136,
   "id": "4151e8a0",
   "metadata": {},
   "outputs": [],
   "source": [
    "df_train = pd.read_csv('../analysis/train.csv')\n",
    "df_label_train = pd.read_csv('../analysis/train_label.csv')"
   ]
  },
  {
   "cell_type": "code",
   "execution_count": 137,
   "id": "7810407b",
   "metadata": {},
   "outputs": [],
   "source": [
    "block_id_anomalous = df_label_train[df_label_train['anomalous'] == 1]['block_id'].values"
   ]
  },
  {
   "cell_type": "code",
   "execution_count": 138,
   "id": "ef607a98",
   "metadata": {},
   "outputs": [],
   "source": [
    "df_anomalous = df_train[df_train['block_id'].isin(block_id_anomalous)]"
   ]
  },
  {
   "cell_type": "code",
   "execution_count": 139,
   "id": "89878a05",
   "metadata": {},
   "outputs": [],
   "source": [
    "df_desc = df_anomalous.describe()"
   ]
  },
  {
   "cell_type": "code",
   "execution_count": 140,
   "id": "8843c29a",
   "metadata": {},
   "outputs": [
    {
     "data": {
      "text/html": [
       "<div>\n",
       "<style scoped>\n",
       "    .dataframe tbody tr th:only-of-type {\n",
       "        vertical-align: middle;\n",
       "    }\n",
       "\n",
       "    .dataframe tbody tr th {\n",
       "        vertical-align: top;\n",
       "    }\n",
       "\n",
       "    .dataframe thead th {\n",
       "        text-align: right;\n",
       "    }\n",
       "</style>\n",
       "<table border=\"1\" class=\"dataframe\">\n",
       "  <thead>\n",
       "    <tr style=\"text-align: right;\">\n",
       "      <th></th>\n",
       "      <th>block_id</th>\n",
       "      <th>sensor_00</th>\n",
       "      <th>sensor_01</th>\n",
       "      <th>sensor_02</th>\n",
       "      <th>sensor_03</th>\n",
       "      <th>sensor_04</th>\n",
       "      <th>sensor_05</th>\n",
       "      <th>sensor_06</th>\n",
       "      <th>sensor_07</th>\n",
       "      <th>sensor_08</th>\n",
       "      <th>sensor_09</th>\n",
       "    </tr>\n",
       "  </thead>\n",
       "  <tbody>\n",
       "    <tr>\n",
       "      <th>count</th>\n",
       "      <td>1310.000000</td>\n",
       "      <td>1310.000000</td>\n",
       "      <td>1310.000000</td>\n",
       "      <td>1310.000000</td>\n",
       "      <td>1310.000000</td>\n",
       "      <td>1310.000000</td>\n",
       "      <td>1310.000000</td>\n",
       "      <td>1310.000000</td>\n",
       "      <td>1310.000000</td>\n",
       "      <td>1310.000000</td>\n",
       "      <td>1310.000000</td>\n",
       "    </tr>\n",
       "    <tr>\n",
       "      <th>mean</th>\n",
       "      <td>8895.374046</td>\n",
       "      <td>2.447115</td>\n",
       "      <td>48.171005</td>\n",
       "      <td>52.139468</td>\n",
       "      <td>44.318828</td>\n",
       "      <td>630.680153</td>\n",
       "      <td>74.994393</td>\n",
       "      <td>13.799454</td>\n",
       "      <td>16.153960</td>\n",
       "      <td>15.449343</td>\n",
       "      <td>15.131636</td>\n",
       "    </tr>\n",
       "    <tr>\n",
       "      <th>std</th>\n",
       "      <td>5470.346861</td>\n",
       "      <td>0.211745</td>\n",
       "      <td>1.704151</td>\n",
       "      <td>1.505023</td>\n",
       "      <td>1.509306</td>\n",
       "      <td>38.456865</td>\n",
       "      <td>9.954861</td>\n",
       "      <td>0.999794</td>\n",
       "      <td>0.358564</td>\n",
       "      <td>0.381017</td>\n",
       "      <td>0.223266</td>\n",
       "    </tr>\n",
       "    <tr>\n",
       "      <th>min</th>\n",
       "      <td>197.000000</td>\n",
       "      <td>0.000000</td>\n",
       "      <td>40.104160</td>\n",
       "      <td>45.182290</td>\n",
       "      <td>40.190970</td>\n",
       "      <td>200.558441</td>\n",
       "      <td>0.000000</td>\n",
       "      <td>3.009259</td>\n",
       "      <td>14.712438</td>\n",
       "      <td>14.456552</td>\n",
       "      <td>14.147890</td>\n",
       "    </tr>\n",
       "    <tr>\n",
       "      <th>25%</th>\n",
       "      <td>4437.000000</td>\n",
       "      <td>2.450637</td>\n",
       "      <td>47.178820</td>\n",
       "      <td>51.176517</td>\n",
       "      <td>43.402775</td>\n",
       "      <td>629.629600</td>\n",
       "      <td>71.200263</td>\n",
       "      <td>13.418690</td>\n",
       "      <td>15.957750</td>\n",
       "      <td>15.183740</td>\n",
       "      <td>15.053530</td>\n",
       "    </tr>\n",
       "  </tbody>\n",
       "</table>\n",
       "</div>"
      ],
      "text/plain": [
       "          block_id    sensor_00    sensor_01    sensor_02    sensor_03  \\\n",
       "count  1310.000000  1310.000000  1310.000000  1310.000000  1310.000000   \n",
       "mean   8895.374046     2.447115    48.171005    52.139468    44.318828   \n",
       "std    5470.346861     0.211745     1.704151     1.505023     1.509306   \n",
       "min     197.000000     0.000000    40.104160    45.182290    40.190970   \n",
       "25%    4437.000000     2.450637    47.178820    51.176517    43.402775   \n",
       "\n",
       "         sensor_04    sensor_05    sensor_06    sensor_07    sensor_08  \\\n",
       "count  1310.000000  1310.000000  1310.000000  1310.000000  1310.000000   \n",
       "mean    630.680153    74.994393    13.799454    16.153960    15.449343   \n",
       "std      38.456865     9.954861     0.999794     0.358564     0.381017   \n",
       "min     200.558441     0.000000     3.009259    14.712438    14.456552   \n",
       "25%     629.629600    71.200263    13.418690    15.957750    15.183740   \n",
       "\n",
       "         sensor_09  \n",
       "count  1310.000000  \n",
       "mean     15.131636  \n",
       "std       0.223266  \n",
       "min      14.147890  \n",
       "25%      15.053530  "
      ]
     },
     "execution_count": 140,
     "metadata": {},
     "output_type": "execute_result"
    }
   ],
   "source": [
    "df_desc.head()"
   ]
  },
  {
   "cell_type": "code",
   "execution_count": 162,
   "id": "8fb7629f",
   "metadata": {},
   "outputs": [],
   "source": [
    "mean = df_desc.loc['mean'].values[1:]\n",
    "std = df_desc.loc['std'].values[1:]"
   ]
  },
  {
   "cell_type": "code",
   "execution_count": 163,
   "id": "cc8577ca",
   "metadata": {},
   "outputs": [
    {
     "data": {
      "text/plain": [
       "(40000, 10)"
      ]
     },
     "execution_count": 163,
     "metadata": {},
     "output_type": "execute_result"
    }
   ],
   "source": [
    "data = []\n",
    "for m, s in zip(mean, std):\n",
    "    sample = np.random.normal(m, s, 40000).reshape(-1, 1)\n",
    "    data.append(sample)\n",
    "data = np.hstack(data)\n",
    "data.shape"
   ]
  },
  {
   "cell_type": "code",
   "execution_count": 164,
   "id": "c243d115",
   "metadata": {},
   "outputs": [],
   "source": [
    "cols = list(df_desc.columns)[1:]\n",
    "df_new_data = pd.DataFrame(columns=cols, data=data)"
   ]
  },
  {
   "cell_type": "code",
   "execution_count": 165,
   "id": "7008d98b",
   "metadata": {},
   "outputs": [],
   "source": [
    "tmp = df_anomalous[['timestamp', 'block_id']][:1000].reset_index(drop=True)"
   ]
  },
  {
   "cell_type": "code",
   "execution_count": 166,
   "id": "5e74a249",
   "metadata": {},
   "outputs": [],
   "source": [
    "tmp = pd.concat([tmp] * 40, axis=0).reset_index(drop=True)"
   ]
  },
  {
   "cell_type": "code",
   "execution_count": 167,
   "id": "d4a54ef2",
   "metadata": {},
   "outputs": [],
   "source": [
    "df_new_data = pd.concat([tmp, df_new_data], axis=1)"
   ]
  },
  {
   "cell_type": "code",
   "execution_count": 168,
   "id": "1d3cffc3",
   "metadata": {},
   "outputs": [
    {
     "data": {
      "text/html": [
       "<div>\n",
       "<style scoped>\n",
       "    .dataframe tbody tr th:only-of-type {\n",
       "        vertical-align: middle;\n",
       "    }\n",
       "\n",
       "    .dataframe tbody tr th {\n",
       "        vertical-align: top;\n",
       "    }\n",
       "\n",
       "    .dataframe thead th {\n",
       "        text-align: right;\n",
       "    }\n",
       "</style>\n",
       "<table border=\"1\" class=\"dataframe\">\n",
       "  <thead>\n",
       "    <tr style=\"text-align: right;\">\n",
       "      <th></th>\n",
       "      <th>timestamp</th>\n",
       "      <th>block_id</th>\n",
       "      <th>sensor_00</th>\n",
       "      <th>sensor_01</th>\n",
       "      <th>sensor_02</th>\n",
       "      <th>sensor_03</th>\n",
       "      <th>sensor_04</th>\n",
       "      <th>sensor_05</th>\n",
       "      <th>sensor_06</th>\n",
       "      <th>sensor_07</th>\n",
       "      <th>sensor_08</th>\n",
       "      <th>sensor_09</th>\n",
       "    </tr>\n",
       "  </thead>\n",
       "  <tbody>\n",
       "    <tr>\n",
       "      <th>0</th>\n",
       "      <td>2018-04-02 08:50:00</td>\n",
       "      <td>197</td>\n",
       "      <td>2.649770</td>\n",
       "      <td>50.761822</td>\n",
       "      <td>51.660732</td>\n",
       "      <td>46.581518</td>\n",
       "      <td>600.222868</td>\n",
       "      <td>63.688093</td>\n",
       "      <td>13.765963</td>\n",
       "      <td>16.570691</td>\n",
       "      <td>16.023164</td>\n",
       "      <td>15.160535</td>\n",
       "    </tr>\n",
       "    <tr>\n",
       "      <th>1</th>\n",
       "      <td>2018-04-02 08:51:00</td>\n",
       "      <td>197</td>\n",
       "      <td>2.474069</td>\n",
       "      <td>50.435159</td>\n",
       "      <td>51.927784</td>\n",
       "      <td>44.268270</td>\n",
       "      <td>651.176558</td>\n",
       "      <td>68.183512</td>\n",
       "      <td>13.371503</td>\n",
       "      <td>15.795449</td>\n",
       "      <td>15.701983</td>\n",
       "      <td>15.069100</td>\n",
       "    </tr>\n",
       "    <tr>\n",
       "      <th>2</th>\n",
       "      <td>2018-04-02 08:52:00</td>\n",
       "      <td>197</td>\n",
       "      <td>2.750751</td>\n",
       "      <td>46.423771</td>\n",
       "      <td>50.520977</td>\n",
       "      <td>42.427946</td>\n",
       "      <td>558.525639</td>\n",
       "      <td>63.419210</td>\n",
       "      <td>14.849667</td>\n",
       "      <td>16.694509</td>\n",
       "      <td>15.338461</td>\n",
       "      <td>14.941691</td>\n",
       "    </tr>\n",
       "    <tr>\n",
       "      <th>3</th>\n",
       "      <td>2018-04-02 08:53:00</td>\n",
       "      <td>197</td>\n",
       "      <td>2.480022</td>\n",
       "      <td>45.541142</td>\n",
       "      <td>51.240268</td>\n",
       "      <td>43.942311</td>\n",
       "      <td>655.668650</td>\n",
       "      <td>80.963593</td>\n",
       "      <td>15.296042</td>\n",
       "      <td>16.088853</td>\n",
       "      <td>15.078666</td>\n",
       "      <td>14.823551</td>\n",
       "    </tr>\n",
       "    <tr>\n",
       "      <th>4</th>\n",
       "      <td>2018-04-02 08:54:00</td>\n",
       "      <td>197</td>\n",
       "      <td>2.523577</td>\n",
       "      <td>49.543614</td>\n",
       "      <td>52.862617</td>\n",
       "      <td>45.709519</td>\n",
       "      <td>647.056826</td>\n",
       "      <td>68.814586</td>\n",
       "      <td>14.014246</td>\n",
       "      <td>15.747767</td>\n",
       "      <td>15.112354</td>\n",
       "      <td>15.193404</td>\n",
       "    </tr>\n",
       "  </tbody>\n",
       "</table>\n",
       "</div>"
      ],
      "text/plain": [
       "             timestamp  block_id  sensor_00  sensor_01  sensor_02  sensor_03  \\\n",
       "0  2018-04-02 08:50:00       197   2.649770  50.761822  51.660732  46.581518   \n",
       "1  2018-04-02 08:51:00       197   2.474069  50.435159  51.927784  44.268270   \n",
       "2  2018-04-02 08:52:00       197   2.750751  46.423771  50.520977  42.427946   \n",
       "3  2018-04-02 08:53:00       197   2.480022  45.541142  51.240268  43.942311   \n",
       "4  2018-04-02 08:54:00       197   2.523577  49.543614  52.862617  45.709519   \n",
       "\n",
       "    sensor_04  sensor_05  sensor_06  sensor_07  sensor_08  sensor_09  \n",
       "0  600.222868  63.688093  13.765963  16.570691  16.023164  15.160535  \n",
       "1  651.176558  68.183512  13.371503  15.795449  15.701983  15.069100  \n",
       "2  558.525639  63.419210  14.849667  16.694509  15.338461  14.941691  \n",
       "3  655.668650  80.963593  15.296042  16.088853  15.078666  14.823551  \n",
       "4  647.056826  68.814586  14.014246  15.747767  15.112354  15.193404  "
      ]
     },
     "execution_count": 168,
     "metadata": {},
     "output_type": "execute_result"
    }
   ],
   "source": [
    "df_new_data.head()"
   ]
  },
  {
   "cell_type": "code",
   "execution_count": 169,
   "id": "33fcab98",
   "metadata": {},
   "outputs": [],
   "source": [
    "df_new_data.to_csv('../analysis/new_data/new_data.csv', index=False)"
   ]
  },
  {
   "cell_type": "code",
   "execution_count": 170,
   "id": "013616e8",
   "metadata": {},
   "outputs": [
    {
     "data": {
      "text/plain": [
       "(array([  197,   214,   270,   579,   606,   618,   647,   677,  1293,\n",
       "         1315,  1316,  1319,  1320,  1321,  1322,  2035,  2668,  2707,\n",
       "         2771,  2785,  2812,  2863,  2865,  2902,  2907,  4086,  4087,\n",
       "         4106,  4121,  4140,  4375,  4419,  4437,  4438,  4439,  4440,\n",
       "         4461,  4499,  4515,  4528,  4534,  5737,  5784,  5795,  5796,\n",
       "         5797,  5850,  5926,  5934,  5935,  5971,  6046,  6994,  7007,\n",
       "         7046,  7119,  7128,  7134,  7141,  7222,  7226,  7292,  7295,\n",
       "         8811,  8870,  8871,  8906,  8924,  8952,  9010,  9013,  9029,\n",
       "         9202,  9215,  9304,  9305,  9306,  9307,  9316, 10493, 10541,\n",
       "        10555, 10607, 10865, 11060, 11445, 11978, 12751, 12798, 12830,\n",
       "        12835, 12845, 12897, 12931, 13353, 13391, 13398, 13666, 13696,\n",
       "        13705]),\n",
       " (100,))"
      ]
     },
     "execution_count": 170,
     "metadata": {},
     "output_type": "execute_result"
    }
   ],
   "source": [
    "block_id_new = np.unique(df_new_data['block_id'])\n",
    "block_id_new, block_id_new.shape"
   ]
  },
  {
   "cell_type": "code",
   "execution_count": 171,
   "id": "4ad03682",
   "metadata": {},
   "outputs": [],
   "source": [
    "df_label_anomalous = df_label_train[df_label_train['block_id'].isin(block_id_anomalous)]"
   ]
  },
  {
   "cell_type": "code",
   "execution_count": 172,
   "id": "caa23365",
   "metadata": {},
   "outputs": [],
   "source": [
    "df_new_data_label = df_label_anomalous[df_label_anomalous['block_id'].isin(block_id_new)]"
   ]
  },
  {
   "cell_type": "code",
   "execution_count": 176,
   "id": "77f85748",
   "metadata": {},
   "outputs": [],
   "source": [
    "df_new_data_label = pd.concat([df_new_data_label]*40, axis=0)"
   ]
  },
  {
   "cell_type": "code",
   "execution_count": 177,
   "id": "b0a46384",
   "metadata": {},
   "outputs": [],
   "source": [
    "df_new_data_label.to_csv('../analysis/new_data/df_new_data_label.csv', index=False)"
   ]
  },
  {
   "cell_type": "code",
   "execution_count": 178,
   "id": "f8a6c9a8",
   "metadata": {},
   "outputs": [
    {
     "data": {
      "text/html": [
       "<div>\n",
       "<style scoped>\n",
       "    .dataframe tbody tr th:only-of-type {\n",
       "        vertical-align: middle;\n",
       "    }\n",
       "\n",
       "    .dataframe tbody tr th {\n",
       "        vertical-align: top;\n",
       "    }\n",
       "\n",
       "    .dataframe thead th {\n",
       "        text-align: right;\n",
       "    }\n",
       "</style>\n",
       "<table border=\"1\" class=\"dataframe\">\n",
       "  <thead>\n",
       "    <tr style=\"text-align: right;\">\n",
       "      <th></th>\n",
       "      <th>block_id</th>\n",
       "      <th>anomalous</th>\n",
       "    </tr>\n",
       "  </thead>\n",
       "  <tbody>\n",
       "    <tr>\n",
       "      <th>40</th>\n",
       "      <td>197</td>\n",
       "      <td>1</td>\n",
       "    </tr>\n",
       "    <tr>\n",
       "      <th>54</th>\n",
       "      <td>214</td>\n",
       "      <td>1</td>\n",
       "    </tr>\n",
       "    <tr>\n",
       "      <th>95</th>\n",
       "      <td>270</td>\n",
       "      <td>1</td>\n",
       "    </tr>\n",
       "    <tr>\n",
       "      <th>113</th>\n",
       "      <td>579</td>\n",
       "      <td>1</td>\n",
       "    </tr>\n",
       "    <tr>\n",
       "      <th>134</th>\n",
       "      <td>606</td>\n",
       "      <td>1</td>\n",
       "    </tr>\n",
       "    <tr>\n",
       "      <th>...</th>\n",
       "      <td>...</td>\n",
       "      <td>...</td>\n",
       "    </tr>\n",
       "    <tr>\n",
       "      <th>3159</th>\n",
       "      <td>13391</td>\n",
       "      <td>1</td>\n",
       "    </tr>\n",
       "    <tr>\n",
       "      <th>3164</th>\n",
       "      <td>13398</td>\n",
       "      <td>1</td>\n",
       "    </tr>\n",
       "    <tr>\n",
       "      <th>3271</th>\n",
       "      <td>13666</td>\n",
       "      <td>1</td>\n",
       "    </tr>\n",
       "    <tr>\n",
       "      <th>3293</th>\n",
       "      <td>13696</td>\n",
       "      <td>1</td>\n",
       "    </tr>\n",
       "    <tr>\n",
       "      <th>3301</th>\n",
       "      <td>13705</td>\n",
       "      <td>1</td>\n",
       "    </tr>\n",
       "  </tbody>\n",
       "</table>\n",
       "<p>40000 rows × 2 columns</p>\n",
       "</div>"
      ],
      "text/plain": [
       "      block_id  anomalous\n",
       "40         197          1\n",
       "54         214          1\n",
       "95         270          1\n",
       "113        579          1\n",
       "134        606          1\n",
       "...        ...        ...\n",
       "3159     13391          1\n",
       "3164     13398          1\n",
       "3271     13666          1\n",
       "3293     13696          1\n",
       "3301     13705          1\n",
       "\n",
       "[40000 rows x 2 columns]"
      ]
     },
     "execution_count": 178,
     "metadata": {},
     "output_type": "execute_result"
    }
   ],
   "source": [
    "df_new_data_label"
   ]
  },
  {
   "cell_type": "code",
   "execution_count": 159,
   "id": "c3f3ed7f",
   "metadata": {},
   "outputs": [],
   "source": [
    "train = pd.read_csv('../analysis/train.csv')\n",
    "val = pd.read_csv('../analysis/val.csv')\n",
    "target_train = pd.read_csv('../analysis/train_label.csv')\n",
    "target_val = pd.read_csv('../analysis/val_label.csv')['anomalous'].to_numpy()\n",
    "\n",
    "# Add feature\n",
    "train_suffle = pd.read_csv('../analysis/suffle/train_suffle_100.csv')\n",
    "target_train_shuffle = pd.read_csv('../analysis/suffle/train_label_suffle_100.csv')\n",
    "\n",
    "train_new_data = pd.read_csv('../analysis/new_data/new_data.csv')\n",
    "target_new_data = pd.read_csv('../analysis/new_data/df_new_data_label.csv')\n",
    "\n",
    "# Combine\n",
    "train = pd.concat([train, train_new_data, train_suffle], axis=0)\n",
    "target_train = pd.concat([target_train,target_new_data, target_train_shuffle], axis=0)\n",
    "\n",
    "target_train = target_train['anomalous'].to_numpy()"
   ]
  },
  {
   "cell_type": "code",
   "execution_count": 160,
   "id": "daa1e4cc",
   "metadata": {},
   "outputs": [
    {
     "data": {
      "text/plain": [
       "(69340, 11570)"
      ]
     },
     "execution_count": 160,
     "metadata": {},
     "output_type": "execute_result"
    }
   ],
   "source": [
    "len(train), len(val)"
   ]
  },
  {
   "cell_type": "code",
   "execution_count": 161,
   "id": "b1d74f4b",
   "metadata": {},
   "outputs": [
    {
     "data": {
      "text/plain": [
       "(10000, 13100)"
      ]
     },
     "execution_count": 161,
     "metadata": {},
     "output_type": "execute_result"
    }
   ],
   "source": [
    "len(train_new_data), len(train_suffle)"
   ]
  },
  {
   "cell_type": "code",
   "execution_count": null,
   "id": "1d7b2aea",
   "metadata": {},
   "outputs": [],
   "source": []
  }
 ],
 "metadata": {
  "kernelspec": {
   "display_name": "Python 3 (ipykernel)",
   "language": "python",
   "name": "python3"
  },
  "language_info": {
   "codemirror_mode": {
    "name": "ipython",
    "version": 3
   },
   "file_extension": ".py",
   "mimetype": "text/x-python",
   "name": "python",
   "nbconvert_exporter": "python",
   "pygments_lexer": "ipython3",
   "version": "3.8.12"
  }
 },
 "nbformat": 4,
 "nbformat_minor": 5
}
