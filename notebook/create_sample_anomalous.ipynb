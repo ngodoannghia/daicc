{
 "cells": [
  {
   "cell_type": "code",
   "execution_count": 259,
   "id": "88c70601",
   "metadata": {},
   "outputs": [],
   "source": [
    "import pandas as pd\n",
    "import numpy as np"
   ]
  },
  {
   "cell_type": "code",
   "execution_count": 260,
   "id": "3b521cac",
   "metadata": {},
   "outputs": [],
   "source": [
    "df_train = pd.read_csv('../analysis/train.csv')\n",
    "df_label_train = pd.read_csv('../analysis/train_label.csv')\n",
    "df_sensor_log = pd.read_csv('../data/sensor_log.csv')"
   ]
  },
  {
   "cell_type": "code",
   "execution_count": 261,
   "id": "d473c92b",
   "metadata": {},
   "outputs": [],
   "source": [
    "df_val = pd.read_csv('../analysis/val.csv')\n",
    "df_label_val = pd.read_csv('../analysis/val_label.csv')"
   ]
  },
  {
   "cell_type": "code",
   "execution_count": 262,
   "id": "d4b93510",
   "metadata": {},
   "outputs": [],
   "source": [
    "df_train = pd.concat([df_train, df_val])\n",
    "df_label_train = pd.concat([df_label_train, df_label_val])"
   ]
  },
  {
   "cell_type": "code",
   "execution_count": 263,
   "id": "7fd2bc9f",
   "metadata": {},
   "outputs": [
    {
     "data": {
      "text/plain": [
       "19283"
      ]
     },
     "execution_count": 263,
     "metadata": {},
     "output_type": "execute_result"
    }
   ],
   "source": [
    "offset = np.max(df_sensor_log['block_id'].values) + 1\n",
    "offset"
   ]
  },
  {
   "cell_type": "code",
   "execution_count": 264,
   "id": "2251a52b",
   "metadata": {},
   "outputs": [],
   "source": [
    "block_id_anomalous = df_label_train[df_label_train['anomalous'] == 1]['block_id'].values"
   ]
  },
  {
   "cell_type": "code",
   "execution_count": 265,
   "id": "de4cabae",
   "metadata": {},
   "outputs": [],
   "source": [
    "df_anomalous = df_train[df_train['block_id'].isin(block_id_anomalous)]"
   ]
  },
  {
   "cell_type": "code",
   "execution_count": 266,
   "id": "8a92b4fe",
   "metadata": {},
   "outputs": [],
   "source": [
    "df_desc = df_anomalous.describe()"
   ]
  },
  {
   "cell_type": "code",
   "execution_count": 267,
   "id": "49a89df0",
   "metadata": {},
   "outputs": [
    {
     "data": {
      "text/html": [
       "<div>\n",
       "<style scoped>\n",
       "    .dataframe tbody tr th:only-of-type {\n",
       "        vertical-align: middle;\n",
       "    }\n",
       "\n",
       "    .dataframe tbody tr th {\n",
       "        vertical-align: top;\n",
       "    }\n",
       "\n",
       "    .dataframe thead th {\n",
       "        text-align: right;\n",
       "    }\n",
       "</style>\n",
       "<table border=\"1\" class=\"dataframe\">\n",
       "  <thead>\n",
       "    <tr style=\"text-align: right;\">\n",
       "      <th></th>\n",
       "      <th>block_id</th>\n",
       "      <th>sensor_00</th>\n",
       "      <th>sensor_01</th>\n",
       "      <th>sensor_02</th>\n",
       "      <th>sensor_03</th>\n",
       "      <th>sensor_04</th>\n",
       "      <th>sensor_05</th>\n",
       "      <th>sensor_06</th>\n",
       "      <th>sensor_07</th>\n",
       "      <th>sensor_08</th>\n",
       "      <th>sensor_09</th>\n",
       "    </tr>\n",
       "  </thead>\n",
       "  <tbody>\n",
       "    <tr>\n",
       "      <th>count</th>\n",
       "      <td>1640.000000</td>\n",
       "      <td>1640.000000</td>\n",
       "      <td>1640.000000</td>\n",
       "      <td>1640.000000</td>\n",
       "      <td>1640.000000</td>\n",
       "      <td>1640.000000</td>\n",
       "      <td>1640.000000</td>\n",
       "      <td>1640.000000</td>\n",
       "      <td>1640.000000</td>\n",
       "      <td>1640.000000</td>\n",
       "      <td>1640.000000</td>\n",
       "    </tr>\n",
       "    <tr>\n",
       "      <th>mean</th>\n",
       "      <td>9035.018293</td>\n",
       "      <td>2.449637</td>\n",
       "      <td>48.097757</td>\n",
       "      <td>52.060511</td>\n",
       "      <td>44.305572</td>\n",
       "      <td>631.324514</td>\n",
       "      <td>75.048025</td>\n",
       "      <td>13.827248</td>\n",
       "      <td>16.154966</td>\n",
       "      <td>15.465440</td>\n",
       "      <td>15.141328</td>\n",
       "    </tr>\n",
       "    <tr>\n",
       "      <th>std</th>\n",
       "      <td>5716.062547</td>\n",
       "      <td>0.190367</td>\n",
       "      <td>1.710918</td>\n",
       "      <td>1.465615</td>\n",
       "      <td>1.479873</td>\n",
       "      <td>34.549196</td>\n",
       "      <td>9.703026</td>\n",
       "      <td>0.937933</td>\n",
       "      <td>0.347999</td>\n",
       "      <td>0.369902</td>\n",
       "      <td>0.230203</td>\n",
       "    </tr>\n",
       "    <tr>\n",
       "      <th>min</th>\n",
       "      <td>197.000000</td>\n",
       "      <td>0.000000</td>\n",
       "      <td>40.104160</td>\n",
       "      <td>45.182290</td>\n",
       "      <td>40.190970</td>\n",
       "      <td>200.558441</td>\n",
       "      <td>0.000000</td>\n",
       "      <td>3.009259</td>\n",
       "      <td>14.712438</td>\n",
       "      <td>14.456552</td>\n",
       "      <td>14.147890</td>\n",
       "    </tr>\n",
       "    <tr>\n",
       "      <th>25%</th>\n",
       "      <td>4316.250000</td>\n",
       "      <td>2.449653</td>\n",
       "      <td>47.141709</td>\n",
       "      <td>51.085070</td>\n",
       "      <td>43.402775</td>\n",
       "      <td>629.513900</td>\n",
       "      <td>70.640672</td>\n",
       "      <td>13.418690</td>\n",
       "      <td>16.001160</td>\n",
       "      <td>15.183740</td>\n",
       "      <td>15.053530</td>\n",
       "    </tr>\n",
       "  </tbody>\n",
       "</table>\n",
       "</div>"
      ],
      "text/plain": [
       "          block_id    sensor_00    sensor_01    sensor_02    sensor_03  \\\n",
       "count  1640.000000  1640.000000  1640.000000  1640.000000  1640.000000   \n",
       "mean   9035.018293     2.449637    48.097757    52.060511    44.305572   \n",
       "std    5716.062547     0.190367     1.710918     1.465615     1.479873   \n",
       "min     197.000000     0.000000    40.104160    45.182290    40.190970   \n",
       "25%    4316.250000     2.449653    47.141709    51.085070    43.402775   \n",
       "\n",
       "         sensor_04    sensor_05    sensor_06    sensor_07    sensor_08  \\\n",
       "count  1640.000000  1640.000000  1640.000000  1640.000000  1640.000000   \n",
       "mean    631.324514    75.048025    13.827248    16.154966    15.465440   \n",
       "std      34.549196     9.703026     0.937933     0.347999     0.369902   \n",
       "min     200.558441     0.000000     3.009259    14.712438    14.456552   \n",
       "25%     629.513900    70.640672    13.418690    16.001160    15.183740   \n",
       "\n",
       "         sensor_09  \n",
       "count  1640.000000  \n",
       "mean     15.141328  \n",
       "std       0.230203  \n",
       "min      14.147890  \n",
       "25%      15.053530  "
      ]
     },
     "execution_count": 267,
     "metadata": {},
     "output_type": "execute_result"
    }
   ],
   "source": [
    "df_desc.head()"
   ]
  },
  {
   "cell_type": "code",
   "execution_count": 268,
   "id": "4b0b456b",
   "metadata": {},
   "outputs": [],
   "source": [
    "mean = df_desc.loc['mean'].values[1:]\n",
    "std = df_desc.loc['std'].values[1:]"
   ]
  },
  {
   "cell_type": "code",
   "execution_count": 269,
   "id": "772cbeeb",
   "metadata": {},
   "outputs": [
    {
     "data": {
      "text/plain": [
       "(40000, 10)"
      ]
     },
     "execution_count": 269,
     "metadata": {},
     "output_type": "execute_result"
    }
   ],
   "source": [
    "data = []\n",
    "for m, s in zip(mean, std):\n",
    "    sample = np.random.normal(m, s, 40000).reshape(-1, 1)\n",
    "    data.append(sample)\n",
    "data = np.hstack(data)\n",
    "data.shape"
   ]
  },
  {
   "cell_type": "code",
   "execution_count": 270,
   "id": "512663b5",
   "metadata": {},
   "outputs": [],
   "source": [
    "num_feats = df_sensor_log.columns.to_list()[2:]\n",
    "df_feat = pd.DataFrame(columns=num_feats)"
   ]
  },
  {
   "cell_type": "code",
   "execution_count": 271,
   "id": "54e12e79",
   "metadata": {},
   "outputs": [],
   "source": [
    "block_id = []\n",
    "for i in range(data.reshape(-1,10,10).shape[0]):\n",
    "    block_id.append(offset + i)"
   ]
  },
  {
   "cell_type": "code",
   "execution_count": 272,
   "id": "ca718f6f",
   "metadata": {},
   "outputs": [],
   "source": [
    "data_block_id = np.array(block_id)[:, None]\n",
    "data_block_id = np.repeat(data_block_id, 10, 1)\n",
    "data_block_id = data_block_id.reshape(-1)\n",
    "\n",
    "data_timestamp = ['2018-04-01 00:00:00'] * 40000"
   ]
  },
  {
   "cell_type": "code",
   "execution_count": 273,
   "id": "ab05fce8",
   "metadata": {},
   "outputs": [
    {
     "data": {
      "text/html": [
       "<div>\n",
       "<style scoped>\n",
       "    .dataframe tbody tr th:only-of-type {\n",
       "        vertical-align: middle;\n",
       "    }\n",
       "\n",
       "    .dataframe tbody tr th {\n",
       "        vertical-align: top;\n",
       "    }\n",
       "\n",
       "    .dataframe thead th {\n",
       "        text-align: right;\n",
       "    }\n",
       "</style>\n",
       "<table border=\"1\" class=\"dataframe\">\n",
       "  <thead>\n",
       "    <tr style=\"text-align: right;\">\n",
       "      <th></th>\n",
       "      <th>timestamp</th>\n",
       "      <th>block_id</th>\n",
       "    </tr>\n",
       "  </thead>\n",
       "  <tbody>\n",
       "    <tr>\n",
       "      <th>0</th>\n",
       "      <td>2018-04-01 00:00:00</td>\n",
       "      <td>19283</td>\n",
       "    </tr>\n",
       "    <tr>\n",
       "      <th>1</th>\n",
       "      <td>2018-04-01 00:00:00</td>\n",
       "      <td>19283</td>\n",
       "    </tr>\n",
       "    <tr>\n",
       "      <th>2</th>\n",
       "      <td>2018-04-01 00:00:00</td>\n",
       "      <td>19283</td>\n",
       "    </tr>\n",
       "    <tr>\n",
       "      <th>3</th>\n",
       "      <td>2018-04-01 00:00:00</td>\n",
       "      <td>19283</td>\n",
       "    </tr>\n",
       "    <tr>\n",
       "      <th>4</th>\n",
       "      <td>2018-04-01 00:00:00</td>\n",
       "      <td>19283</td>\n",
       "    </tr>\n",
       "  </tbody>\n",
       "</table>\n",
       "</div>"
      ],
      "text/plain": [
       "             timestamp  block_id\n",
       "0  2018-04-01 00:00:00     19283\n",
       "1  2018-04-01 00:00:00     19283\n",
       "2  2018-04-01 00:00:00     19283\n",
       "3  2018-04-01 00:00:00     19283\n",
       "4  2018-04-01 00:00:00     19283"
      ]
     },
     "execution_count": 273,
     "metadata": {},
     "output_type": "execute_result"
    }
   ],
   "source": [
    "df_block_time = pd.DataFrame(data={\n",
    "    'timestamp': data_timestamp,\n",
    "    'block_id': data_block_id\n",
    "})\n",
    "df_block_time.head()"
   ]
  },
  {
   "cell_type": "code",
   "execution_count": 274,
   "id": "0e82b063",
   "metadata": {},
   "outputs": [
    {
     "data": {
      "text/html": [
       "<div>\n",
       "<style scoped>\n",
       "    .dataframe tbody tr th:only-of-type {\n",
       "        vertical-align: middle;\n",
       "    }\n",
       "\n",
       "    .dataframe tbody tr th {\n",
       "        vertical-align: top;\n",
       "    }\n",
       "\n",
       "    .dataframe thead th {\n",
       "        text-align: right;\n",
       "    }\n",
       "</style>\n",
       "<table border=\"1\" class=\"dataframe\">\n",
       "  <thead>\n",
       "    <tr style=\"text-align: right;\">\n",
       "      <th></th>\n",
       "      <th>sensor_00</th>\n",
       "      <th>sensor_01</th>\n",
       "      <th>sensor_02</th>\n",
       "      <th>sensor_03</th>\n",
       "      <th>sensor_04</th>\n",
       "      <th>sensor_05</th>\n",
       "      <th>sensor_06</th>\n",
       "      <th>sensor_07</th>\n",
       "      <th>sensor_08</th>\n",
       "      <th>sensor_09</th>\n",
       "    </tr>\n",
       "  </thead>\n",
       "  <tbody>\n",
       "    <tr>\n",
       "      <th>0</th>\n",
       "      <td>2.152724</td>\n",
       "      <td>48.990054</td>\n",
       "      <td>51.525976</td>\n",
       "      <td>45.775100</td>\n",
       "      <td>656.496567</td>\n",
       "      <td>67.883470</td>\n",
       "      <td>14.285256</td>\n",
       "      <td>16.120242</td>\n",
       "      <td>15.869066</td>\n",
       "      <td>15.338918</td>\n",
       "    </tr>\n",
       "    <tr>\n",
       "      <th>1</th>\n",
       "      <td>2.529914</td>\n",
       "      <td>46.909243</td>\n",
       "      <td>54.629688</td>\n",
       "      <td>43.239581</td>\n",
       "      <td>625.894194</td>\n",
       "      <td>71.102256</td>\n",
       "      <td>13.914366</td>\n",
       "      <td>15.987587</td>\n",
       "      <td>15.633496</td>\n",
       "      <td>15.056600</td>\n",
       "    </tr>\n",
       "    <tr>\n",
       "      <th>2</th>\n",
       "      <td>2.569834</td>\n",
       "      <td>47.400085</td>\n",
       "      <td>53.062656</td>\n",
       "      <td>44.724780</td>\n",
       "      <td>632.757138</td>\n",
       "      <td>68.900715</td>\n",
       "      <td>14.225144</td>\n",
       "      <td>16.475916</td>\n",
       "      <td>15.538160</td>\n",
       "      <td>15.005391</td>\n",
       "    </tr>\n",
       "    <tr>\n",
       "      <th>3</th>\n",
       "      <td>2.446170</td>\n",
       "      <td>46.555516</td>\n",
       "      <td>50.472203</td>\n",
       "      <td>43.017065</td>\n",
       "      <td>585.927345</td>\n",
       "      <td>78.653791</td>\n",
       "      <td>13.194951</td>\n",
       "      <td>16.399957</td>\n",
       "      <td>15.267439</td>\n",
       "      <td>15.272159</td>\n",
       "    </tr>\n",
       "    <tr>\n",
       "      <th>4</th>\n",
       "      <td>2.651781</td>\n",
       "      <td>50.248741</td>\n",
       "      <td>51.715692</td>\n",
       "      <td>45.265821</td>\n",
       "      <td>604.675502</td>\n",
       "      <td>76.839135</td>\n",
       "      <td>13.355820</td>\n",
       "      <td>16.227751</td>\n",
       "      <td>15.326910</td>\n",
       "      <td>15.124609</td>\n",
       "    </tr>\n",
       "  </tbody>\n",
       "</table>\n",
       "</div>"
      ],
      "text/plain": [
       "   sensor_00  sensor_01  sensor_02  sensor_03   sensor_04  sensor_05  \\\n",
       "0   2.152724  48.990054  51.525976  45.775100  656.496567  67.883470   \n",
       "1   2.529914  46.909243  54.629688  43.239581  625.894194  71.102256   \n",
       "2   2.569834  47.400085  53.062656  44.724780  632.757138  68.900715   \n",
       "3   2.446170  46.555516  50.472203  43.017065  585.927345  78.653791   \n",
       "4   2.651781  50.248741  51.715692  45.265821  604.675502  76.839135   \n",
       "\n",
       "   sensor_06  sensor_07  sensor_08  sensor_09  \n",
       "0  14.285256  16.120242  15.869066  15.338918  \n",
       "1  13.914366  15.987587  15.633496  15.056600  \n",
       "2  14.225144  16.475916  15.538160  15.005391  \n",
       "3  13.194951  16.399957  15.267439  15.272159  \n",
       "4  13.355820  16.227751  15.326910  15.124609  "
      ]
     },
     "execution_count": 274,
     "metadata": {},
     "output_type": "execute_result"
    }
   ],
   "source": [
    "df_data = pd.DataFrame(columns=num_feats, data=data)\n",
    "df_data.head()"
   ]
  },
  {
   "cell_type": "code",
   "execution_count": 275,
   "id": "7b1043d4",
   "metadata": {},
   "outputs": [
    {
     "data": {
      "text/html": [
       "<div>\n",
       "<style scoped>\n",
       "    .dataframe tbody tr th:only-of-type {\n",
       "        vertical-align: middle;\n",
       "    }\n",
       "\n",
       "    .dataframe tbody tr th {\n",
       "        vertical-align: top;\n",
       "    }\n",
       "\n",
       "    .dataframe thead th {\n",
       "        text-align: right;\n",
       "    }\n",
       "</style>\n",
       "<table border=\"1\" class=\"dataframe\">\n",
       "  <thead>\n",
       "    <tr style=\"text-align: right;\">\n",
       "      <th></th>\n",
       "      <th>timestamp</th>\n",
       "      <th>block_id</th>\n",
       "      <th>sensor_00</th>\n",
       "      <th>sensor_01</th>\n",
       "      <th>sensor_02</th>\n",
       "      <th>sensor_03</th>\n",
       "      <th>sensor_04</th>\n",
       "      <th>sensor_05</th>\n",
       "      <th>sensor_06</th>\n",
       "      <th>sensor_07</th>\n",
       "      <th>sensor_08</th>\n",
       "      <th>sensor_09</th>\n",
       "    </tr>\n",
       "  </thead>\n",
       "  <tbody>\n",
       "    <tr>\n",
       "      <th>0</th>\n",
       "      <td>2018-04-01 00:00:00</td>\n",
       "      <td>19283</td>\n",
       "      <td>2.152724</td>\n",
       "      <td>48.990054</td>\n",
       "      <td>51.525976</td>\n",
       "      <td>45.775100</td>\n",
       "      <td>656.496567</td>\n",
       "      <td>67.883470</td>\n",
       "      <td>14.285256</td>\n",
       "      <td>16.120242</td>\n",
       "      <td>15.869066</td>\n",
       "      <td>15.338918</td>\n",
       "    </tr>\n",
       "    <tr>\n",
       "      <th>1</th>\n",
       "      <td>2018-04-01 00:00:00</td>\n",
       "      <td>19283</td>\n",
       "      <td>2.529914</td>\n",
       "      <td>46.909243</td>\n",
       "      <td>54.629688</td>\n",
       "      <td>43.239581</td>\n",
       "      <td>625.894194</td>\n",
       "      <td>71.102256</td>\n",
       "      <td>13.914366</td>\n",
       "      <td>15.987587</td>\n",
       "      <td>15.633496</td>\n",
       "      <td>15.056600</td>\n",
       "    </tr>\n",
       "    <tr>\n",
       "      <th>2</th>\n",
       "      <td>2018-04-01 00:00:00</td>\n",
       "      <td>19283</td>\n",
       "      <td>2.569834</td>\n",
       "      <td>47.400085</td>\n",
       "      <td>53.062656</td>\n",
       "      <td>44.724780</td>\n",
       "      <td>632.757138</td>\n",
       "      <td>68.900715</td>\n",
       "      <td>14.225144</td>\n",
       "      <td>16.475916</td>\n",
       "      <td>15.538160</td>\n",
       "      <td>15.005391</td>\n",
       "    </tr>\n",
       "    <tr>\n",
       "      <th>3</th>\n",
       "      <td>2018-04-01 00:00:00</td>\n",
       "      <td>19283</td>\n",
       "      <td>2.446170</td>\n",
       "      <td>46.555516</td>\n",
       "      <td>50.472203</td>\n",
       "      <td>43.017065</td>\n",
       "      <td>585.927345</td>\n",
       "      <td>78.653791</td>\n",
       "      <td>13.194951</td>\n",
       "      <td>16.399957</td>\n",
       "      <td>15.267439</td>\n",
       "      <td>15.272159</td>\n",
       "    </tr>\n",
       "    <tr>\n",
       "      <th>4</th>\n",
       "      <td>2018-04-01 00:00:00</td>\n",
       "      <td>19283</td>\n",
       "      <td>2.651781</td>\n",
       "      <td>50.248741</td>\n",
       "      <td>51.715692</td>\n",
       "      <td>45.265821</td>\n",
       "      <td>604.675502</td>\n",
       "      <td>76.839135</td>\n",
       "      <td>13.355820</td>\n",
       "      <td>16.227751</td>\n",
       "      <td>15.326910</td>\n",
       "      <td>15.124609</td>\n",
       "    </tr>\n",
       "  </tbody>\n",
       "</table>\n",
       "</div>"
      ],
      "text/plain": [
       "             timestamp  block_id  sensor_00  sensor_01  sensor_02  sensor_03  \\\n",
       "0  2018-04-01 00:00:00     19283   2.152724  48.990054  51.525976  45.775100   \n",
       "1  2018-04-01 00:00:00     19283   2.529914  46.909243  54.629688  43.239581   \n",
       "2  2018-04-01 00:00:00     19283   2.569834  47.400085  53.062656  44.724780   \n",
       "3  2018-04-01 00:00:00     19283   2.446170  46.555516  50.472203  43.017065   \n",
       "4  2018-04-01 00:00:00     19283   2.651781  50.248741  51.715692  45.265821   \n",
       "\n",
       "    sensor_04  sensor_05  sensor_06  sensor_07  sensor_08  sensor_09  \n",
       "0  656.496567  67.883470  14.285256  16.120242  15.869066  15.338918  \n",
       "1  625.894194  71.102256  13.914366  15.987587  15.633496  15.056600  \n",
       "2  632.757138  68.900715  14.225144  16.475916  15.538160  15.005391  \n",
       "3  585.927345  78.653791  13.194951  16.399957  15.267439  15.272159  \n",
       "4  604.675502  76.839135  13.355820  16.227751  15.326910  15.124609  "
      ]
     },
     "execution_count": 275,
     "metadata": {},
     "output_type": "execute_result"
    }
   ],
   "source": [
    "df_all = pd.concat([df_block_time, df_data], axis=1)\n",
    "df_all.head()"
   ]
  },
  {
   "cell_type": "code",
   "execution_count": 276,
   "id": "05a08530",
   "metadata": {},
   "outputs": [],
   "source": [
    "df_label = pd.DataFrame(columns=df_label_train.columns.to_list())"
   ]
  },
  {
   "cell_type": "code",
   "execution_count": 277,
   "id": "68f0f757",
   "metadata": {},
   "outputs": [],
   "source": [
    "df_label['block_id'] = block_id\n",
    "df_label['anomalous'] = [1] * 4000"
   ]
  },
  {
   "cell_type": "code",
   "execution_count": 278,
   "id": "210e00c0",
   "metadata": {},
   "outputs": [],
   "source": [
    "df_all.to_csv('../analysis/new_data/new_data.csv', index=False)\n",
    "df_label.to_csv('../analysis/new_data/df_new_data_label.csv', index=False)"
   ]
  },
  {
   "cell_type": "code",
   "execution_count": null,
   "id": "89bea52b",
   "metadata": {},
   "outputs": [],
   "source": []
  }
 ],
 "metadata": {
  "kernelspec": {
   "display_name": "Python 3 (ipykernel)",
   "language": "python",
   "name": "python3"
  },
  "language_info": {
   "codemirror_mode": {
    "name": "ipython",
    "version": 3
   },
   "file_extension": ".py",
   "mimetype": "text/x-python",
   "name": "python",
   "nbconvert_exporter": "python",
   "pygments_lexer": "ipython3",
   "version": "3.8.12"
  }
 },
 "nbformat": 4,
 "nbformat_minor": 5
}
