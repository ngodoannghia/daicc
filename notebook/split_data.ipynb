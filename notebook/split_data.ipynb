{
 "cells": [
  {
   "cell_type": "code",
   "execution_count": 1,
   "metadata": {},
   "outputs": [],
   "source": [
    "from sklearn.model_selection import train_test_split\n",
    "import pandas as pd"
   ]
  },
  {
   "cell_type": "code",
   "execution_count": 2,
   "metadata": {},
   "outputs": [],
   "source": [
    "df_label = pd.read_csv('../data/label.csv')\n",
    "df_sub = pd.read_csv('../data/sample_submission.csv')\n",
    "df_sensor_log = pd.read_csv('../data/sensor_log.csv')"
   ]
  },
  {
   "cell_type": "code",
   "execution_count": 3,
   "metadata": {},
   "outputs": [
    {
     "data": {
      "text/html": [
       "<div>\n",
       "<style scoped>\n",
       "    .dataframe tbody tr th:only-of-type {\n",
       "        vertical-align: middle;\n",
       "    }\n",
       "\n",
       "    .dataframe tbody tr th {\n",
       "        vertical-align: top;\n",
       "    }\n",
       "\n",
       "    .dataframe thead th {\n",
       "        text-align: right;\n",
       "    }\n",
       "</style>\n",
       "<table border=\"1\" class=\"dataframe\">\n",
       "  <thead>\n",
       "    <tr style=\"text-align: right;\">\n",
       "      <th></th>\n",
       "      <th>timestamp</th>\n",
       "      <th>block_id</th>\n",
       "      <th>sensor_00</th>\n",
       "      <th>sensor_01</th>\n",
       "      <th>sensor_02</th>\n",
       "      <th>sensor_03</th>\n",
       "      <th>sensor_04</th>\n",
       "      <th>sensor_05</th>\n",
       "      <th>sensor_06</th>\n",
       "      <th>sensor_07</th>\n",
       "      <th>sensor_08</th>\n",
       "      <th>sensor_09</th>\n",
       "    </tr>\n",
       "  </thead>\n",
       "  <tbody>\n",
       "    <tr>\n",
       "      <th>0</th>\n",
       "      <td>2018-04-02 00:00:00</td>\n",
       "      <td>144</td>\n",
       "      <td>2.459491</td>\n",
       "      <td>45.83333</td>\n",
       "      <td>52.34375</td>\n",
       "      <td>44.791664</td>\n",
       "      <td>639.5833</td>\n",
       "      <td>78.57581</td>\n",
       "      <td>13.09317</td>\n",
       "      <td>16.16753</td>\n",
       "      <td>15.49479</td>\n",
       "      <td>15.11863</td>\n",
       "    </tr>\n",
       "    <tr>\n",
       "      <th>1</th>\n",
       "      <td>2018-04-02 00:01:00</td>\n",
       "      <td>144</td>\n",
       "      <td>2.459491</td>\n",
       "      <td>45.83333</td>\n",
       "      <td>52.34375</td>\n",
       "      <td>44.791664</td>\n",
       "      <td>639.5833</td>\n",
       "      <td>78.57581</td>\n",
       "      <td>13.09317</td>\n",
       "      <td>16.16753</td>\n",
       "      <td>15.49479</td>\n",
       "      <td>15.11863</td>\n",
       "    </tr>\n",
       "  </tbody>\n",
       "</table>\n",
       "</div>"
      ],
      "text/plain": [
       "             timestamp  block_id  sensor_00  sensor_01  sensor_02  sensor_03  \\\n",
       "0  2018-04-02 00:00:00       144   2.459491   45.83333   52.34375  44.791664   \n",
       "1  2018-04-02 00:01:00       144   2.459491   45.83333   52.34375  44.791664   \n",
       "\n",
       "   sensor_04  sensor_05  sensor_06  sensor_07  sensor_08  sensor_09  \n",
       "0   639.5833   78.57581   13.09317   16.16753   15.49479   15.11863  \n",
       "1   639.5833   78.57581   13.09317   16.16753   15.49479   15.11863  "
      ]
     },
     "execution_count": 3,
     "metadata": {},
     "output_type": "execute_result"
    }
   ],
   "source": [
    "## Split train test\n",
    "blockid_train = df_label['block_id'].values\n",
    "_train = df_sensor_log['block_id'].isin(blockid_train)\n",
    "df_train = df_sensor_log[_train].reset_index(drop=True)\n",
    "df_test = df_sensor_log[~_train].reset_index(drop=True)\n",
    "\n",
    "df_train.head(2)"
   ]
  },
  {
   "cell_type": "code",
   "execution_count": 4,
   "metadata": {},
   "outputs": [
    {
     "data": {
      "text/plain": [
       "(4624, 1157)"
      ]
     },
     "execution_count": 4,
     "metadata": {},
     "output_type": "execute_result"
    }
   ],
   "source": [
    "block_id = df_label['block_id'].values\n",
    "anomalous = df_label['anomalous'].values\n",
    "\n",
    "x_train, x_test, y_train, y_test = train_test_split(block_id, anomalous, test_size=0.2, random_state=42)\n",
    "\n",
    "len(x_train), len(x_test)"
   ]
  },
  {
   "cell_type": "code",
   "execution_count": 5,
   "metadata": {},
   "outputs": [
    {
     "data": {
      "text/plain": [
       "(57810, 5781)"
      ]
     },
     "execution_count": 5,
     "metadata": {},
     "output_type": "execute_result"
    }
   ],
   "source": [
    "data_train = df_train[df_train['block_id'].isin(x_train)]\n",
    "data_val = df_train[df_train['block_id'].isin(x_test)]\n",
    "\n",
    "data_train_label = df_label[df_label['block_id'].isin(x_train)]\n",
    "data_val_label = df_label[df_label['block_id'].isin(x_test)]\n",
    "\n",
    "len(data_train) + len(data_val), len(data_train_label) + len(data_val_label)"
   ]
  },
  {
   "cell_type": "code",
   "execution_count": 6,
   "metadata": {},
   "outputs": [],
   "source": [
    "data_train.to_csv('../analysis/train.csv', index=False)\n",
    "data_val.to_csv('../analysis/val.csv', index=False)\n",
    "\n",
    "data_train_label.to_csv('../analysis/train_label.csv', index=False)\n",
    "data_val_label.to_csv('../analysis/val_label.csv', index=False)\n",
    "\n",
    "df_test.to_csv('../analysis/test.csv', index=False)"
   ]
  },
  {
   "cell_type": "code",
   "execution_count": null,
   "metadata": {},
   "outputs": [],
   "source": []
  }
 ],
 "metadata": {
  "kernelspec": {
   "display_name": "Python 3 (ipykernel)",
   "language": "python",
   "name": "python3"
  },
  "language_info": {
   "codemirror_mode": {
    "name": "ipython",
    "version": 3
   },
   "file_extension": ".py",
   "mimetype": "text/x-python",
   "name": "python",
   "nbconvert_exporter": "python",
   "pygments_lexer": "ipython3",
   "version": "3.8.12"
  }
 },
 "nbformat": 4,
 "nbformat_minor": 4
}
