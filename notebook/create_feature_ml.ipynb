{
 "cells": [
  {
   "cell_type": "code",
   "execution_count": 731,
   "id": "74839570",
   "metadata": {},
   "outputs": [],
   "source": [
    "import pandas as pd\n",
    "from sklearn.model_selection import train_test_split\n",
    "from sklearn.metrics import roc_auc_score"
   ]
  },
  {
   "cell_type": "markdown",
   "id": "6243c19b",
   "metadata": {},
   "source": [
    "### Load data"
   ]
  },
  {
   "cell_type": "code",
   "execution_count": 758,
   "id": "b92f1b7f",
   "metadata": {},
   "outputs": [],
   "source": [
    "df_label = pd.read_csv('../data/label.csv')\n",
    "df_sub = pd.read_csv('../data/sample_submission.csv')\n",
    "df_sensor_log = pd.read_csv('../data/sensor_log.csv')\n",
    "\n",
    "df_new_data = pd.read_csv('../analysis/new_data/new_data.csv')\n",
    "df_new_label = pd.read_csv('../analysis/new_data/df_new_data_label.csv')"
   ]
  },
  {
   "cell_type": "code",
   "execution_count": 759,
   "id": "44de1141",
   "metadata": {},
   "outputs": [
    {
     "data": {
      "text/html": [
       "<div>\n",
       "<style scoped>\n",
       "    .dataframe tbody tr th:only-of-type {\n",
       "        vertical-align: middle;\n",
       "    }\n",
       "\n",
       "    .dataframe tbody tr th {\n",
       "        vertical-align: top;\n",
       "    }\n",
       "\n",
       "    .dataframe thead th {\n",
       "        text-align: right;\n",
       "    }\n",
       "</style>\n",
       "<table border=\"1\" class=\"dataframe\">\n",
       "  <thead>\n",
       "    <tr style=\"text-align: right;\">\n",
       "      <th></th>\n",
       "      <th>timestamp</th>\n",
       "      <th>block_id</th>\n",
       "      <th>sensor_00</th>\n",
       "      <th>sensor_01</th>\n",
       "      <th>sensor_02</th>\n",
       "      <th>sensor_03</th>\n",
       "      <th>sensor_04</th>\n",
       "      <th>sensor_05</th>\n",
       "      <th>sensor_06</th>\n",
       "      <th>sensor_07</th>\n",
       "      <th>sensor_08</th>\n",
       "      <th>sensor_09</th>\n",
       "    </tr>\n",
       "  </thead>\n",
       "  <tbody>\n",
       "    <tr>\n",
       "      <th>0</th>\n",
       "      <td>2018-04-01 00:00:00</td>\n",
       "      <td>0</td>\n",
       "      <td>2.465394</td>\n",
       "      <td>47.09201</td>\n",
       "      <td>53.2118</td>\n",
       "      <td>46.310760</td>\n",
       "      <td>634.3750</td>\n",
       "      <td>76.45975</td>\n",
       "      <td>13.41146</td>\n",
       "      <td>16.13136</td>\n",
       "      <td>15.56713</td>\n",
       "      <td>15.05353</td>\n",
       "    </tr>\n",
       "    <tr>\n",
       "      <th>1</th>\n",
       "      <td>2018-04-01 00:01:00</td>\n",
       "      <td>0</td>\n",
       "      <td>2.465394</td>\n",
       "      <td>47.09201</td>\n",
       "      <td>53.2118</td>\n",
       "      <td>46.310760</td>\n",
       "      <td>634.3750</td>\n",
       "      <td>76.45975</td>\n",
       "      <td>13.41146</td>\n",
       "      <td>16.13136</td>\n",
       "      <td>15.56713</td>\n",
       "      <td>15.05353</td>\n",
       "    </tr>\n",
       "    <tr>\n",
       "      <th>2</th>\n",
       "      <td>2018-04-01 00:02:00</td>\n",
       "      <td>0</td>\n",
       "      <td>2.444734</td>\n",
       "      <td>47.35243</td>\n",
       "      <td>53.2118</td>\n",
       "      <td>46.397570</td>\n",
       "      <td>638.8889</td>\n",
       "      <td>73.54598</td>\n",
       "      <td>13.32465</td>\n",
       "      <td>16.03733</td>\n",
       "      <td>15.61777</td>\n",
       "      <td>15.01013</td>\n",
       "    </tr>\n",
       "    <tr>\n",
       "      <th>3</th>\n",
       "      <td>2018-04-01 00:03:00</td>\n",
       "      <td>0</td>\n",
       "      <td>2.460474</td>\n",
       "      <td>47.09201</td>\n",
       "      <td>53.1684</td>\n",
       "      <td>46.397568</td>\n",
       "      <td>628.1250</td>\n",
       "      <td>76.98898</td>\n",
       "      <td>13.31742</td>\n",
       "      <td>16.24711</td>\n",
       "      <td>15.69734</td>\n",
       "      <td>15.08247</td>\n",
       "    </tr>\n",
       "    <tr>\n",
       "      <th>4</th>\n",
       "      <td>2018-04-01 00:04:00</td>\n",
       "      <td>0</td>\n",
       "      <td>2.445718</td>\n",
       "      <td>47.13541</td>\n",
       "      <td>53.2118</td>\n",
       "      <td>46.397568</td>\n",
       "      <td>636.4583</td>\n",
       "      <td>76.58897</td>\n",
       "      <td>13.35359</td>\n",
       "      <td>16.21094</td>\n",
       "      <td>15.69734</td>\n",
       "      <td>15.08247</td>\n",
       "    </tr>\n",
       "  </tbody>\n",
       "</table>\n",
       "</div>"
      ],
      "text/plain": [
       "             timestamp  block_id  sensor_00  sensor_01  sensor_02  sensor_03  \\\n",
       "0  2018-04-01 00:00:00         0   2.465394   47.09201    53.2118  46.310760   \n",
       "1  2018-04-01 00:01:00         0   2.465394   47.09201    53.2118  46.310760   \n",
       "2  2018-04-01 00:02:00         0   2.444734   47.35243    53.2118  46.397570   \n",
       "3  2018-04-01 00:03:00         0   2.460474   47.09201    53.1684  46.397568   \n",
       "4  2018-04-01 00:04:00         0   2.445718   47.13541    53.2118  46.397568   \n",
       "\n",
       "   sensor_04  sensor_05  sensor_06  sensor_07  sensor_08  sensor_09  \n",
       "0   634.3750   76.45975   13.41146   16.13136   15.56713   15.05353  \n",
       "1   634.3750   76.45975   13.41146   16.13136   15.56713   15.05353  \n",
       "2   638.8889   73.54598   13.32465   16.03733   15.61777   15.01013  \n",
       "3   628.1250   76.98898   13.31742   16.24711   15.69734   15.08247  \n",
       "4   636.4583   76.58897   13.35359   16.21094   15.69734   15.08247  "
      ]
     },
     "execution_count": 759,
     "metadata": {},
     "output_type": "execute_result"
    }
   ],
   "source": [
    "df_sensor_log = pd.concat([df_sensor_log, df_new_data], axis=0)\n",
    "df_label = pd.concat([df_label, df_new_label], axis=0)\n",
    "df_sensor_log.head()"
   ]
  },
  {
   "cell_type": "markdown",
   "id": "fe573aaf",
   "metadata": {},
   "source": [
    "### Process noise"
   ]
  },
  {
   "cell_type": "code",
   "execution_count": 760,
   "id": "ce9f5e74",
   "metadata": {},
   "outputs": [],
   "source": [
    "import numpy as np\n",
    "def denoise(df):\n",
    "    for col in df.columns:\n",
    "        if col not in ['timestamp','block_id']:\n",
    "            df[col] = np.floor(df[col]*100) / 100\n",
    "    return df\n",
    "\n",
    "df_sensor_log = denoise(df_sensor_log)"
   ]
  },
  {
   "cell_type": "code",
   "execution_count": 761,
   "id": "8f85e1dc",
   "metadata": {},
   "outputs": [],
   "source": [
    "## feature for trainning\n",
    "num_features = []"
   ]
  },
  {
   "cell_type": "markdown",
   "id": "12976189",
   "metadata": {},
   "source": [
    "### Function process data"
   ]
  },
  {
   "cell_type": "code",
   "execution_count": 762,
   "id": "64b96a6d",
   "metadata": {},
   "outputs": [
    {
     "name": "stdout",
     "output_type": "stream",
     "text": [
      "['sensor_00', 'sensor_01', 'sensor_02', 'sensor_03', 'sensor_04', 'sensor_05', 'sensor_06', 'sensor_07', 'sensor_08', 'sensor_09']\n"
     ]
    }
   ],
   "source": [
    "num_feat = list(df_sensor_log.columns)[2:]\n",
    "print(num_feat)"
   ]
  },
  {
   "cell_type": "code",
   "execution_count": 763,
   "id": "a191d517",
   "metadata": {},
   "outputs": [],
   "source": [
    "def get_last(df, num_feat):\n",
    "    df_last = df.groupby('block_id')[num_feat].last().add_prefix('last_')\n",
    "\n",
    "    return df_last\n",
    "\n",
    "def get_diff(df, num_feat):\n",
    "    diff = df_sensor_log.groupby('block_id')[num_feat].diff().add_prefix('tmp_')\n",
    "    diff['block_id'] = df['block_id'].values\n",
    "    diff.dropna(inplace=True)\n",
    "\n",
    "    num_new_feat = list(diff.columns)[:-1]\n",
    "\n",
    "    df_diff = diff.groupby('block_id')[num_new_feat].mean().add_prefix('diff_')\n",
    "\n",
    "    return df_diff\n",
    "\n",
    "def get_mean(df, num_feat):\n",
    "    df_mean = df.groupby('block_id')[num_feat].mean().add_prefix('mean_')\n",
    "\n",
    "    return df_mean\n",
    "\n",
    "def get_sum(df, num_feat):\n",
    "    df_sum = df.groupby('block_id')[num_feat].sum().add_prefix('sum_')\n",
    "\n",
    "    return df_sum\n",
    "\n",
    "def get_std(df, num_feat):\n",
    "    df_std = df.groupby('block_id')[num_feat].std().add_prefix('std_')\n",
    "\n",
    "    return df_std\n",
    "\n",
    "def get_max(df, num_feat):\n",
    "    df_max = df.groupby('block_id')[num_feat].max().add_prefix('max_')\n",
    "\n",
    "    return df_max\n",
    "\n",
    "def get_min(df, num_feat):\n",
    "    df_min = df.groupby('block_id')[num_feat].min().add_prefix('min_')\n",
    "\n",
    "    return df_min\n",
    "    "
   ]
  },
  {
   "cell_type": "code",
   "execution_count": 764,
   "id": "e6fd41c7",
   "metadata": {},
   "outputs": [
    {
     "data": {
      "text/html": [
       "<div>\n",
       "<style scoped>\n",
       "    .dataframe tbody tr th:only-of-type {\n",
       "        vertical-align: middle;\n",
       "    }\n",
       "\n",
       "    .dataframe tbody tr th {\n",
       "        vertical-align: top;\n",
       "    }\n",
       "\n",
       "    .dataframe thead th {\n",
       "        text-align: right;\n",
       "    }\n",
       "</style>\n",
       "<table border=\"1\" class=\"dataframe\">\n",
       "  <thead>\n",
       "    <tr style=\"text-align: right;\">\n",
       "      <th></th>\n",
       "      <th>mean_sensor_00</th>\n",
       "      <th>mean_sensor_01</th>\n",
       "      <th>mean_sensor_02</th>\n",
       "      <th>mean_sensor_03</th>\n",
       "      <th>mean_sensor_04</th>\n",
       "      <th>mean_sensor_05</th>\n",
       "      <th>mean_sensor_06</th>\n",
       "      <th>mean_sensor_07</th>\n",
       "      <th>mean_sensor_08</th>\n",
       "      <th>mean_sensor_09</th>\n",
       "    </tr>\n",
       "    <tr>\n",
       "      <th>block_id</th>\n",
       "      <th></th>\n",
       "      <th></th>\n",
       "      <th></th>\n",
       "      <th></th>\n",
       "      <th></th>\n",
       "      <th></th>\n",
       "      <th></th>\n",
       "      <th></th>\n",
       "      <th></th>\n",
       "      <th></th>\n",
       "    </tr>\n",
       "  </thead>\n",
       "  <tbody>\n",
       "    <tr>\n",
       "      <th>0</th>\n",
       "      <td>2.45</td>\n",
       "      <td>47.127</td>\n",
       "      <td>53.180</td>\n",
       "      <td>46.374</td>\n",
       "      <td>634.752</td>\n",
       "      <td>75.891</td>\n",
       "      <td>13.355</td>\n",
       "      <td>16.152</td>\n",
       "      <td>15.692</td>\n",
       "      <td>15.081</td>\n",
       "    </tr>\n",
       "    <tr>\n",
       "      <th>1</th>\n",
       "      <td>2.45</td>\n",
       "      <td>48.312</td>\n",
       "      <td>53.196</td>\n",
       "      <td>46.358</td>\n",
       "      <td>636.800</td>\n",
       "      <td>77.237</td>\n",
       "      <td>13.352</td>\n",
       "      <td>16.164</td>\n",
       "      <td>15.705</td>\n",
       "      <td>15.081</td>\n",
       "    </tr>\n",
       "  </tbody>\n",
       "</table>\n",
       "</div>"
      ],
      "text/plain": [
       "          mean_sensor_00  mean_sensor_01  mean_sensor_02  mean_sensor_03  \\\n",
       "block_id                                                                   \n",
       "0                   2.45          47.127          53.180          46.374   \n",
       "1                   2.45          48.312          53.196          46.358   \n",
       "\n",
       "          mean_sensor_04  mean_sensor_05  mean_sensor_06  mean_sensor_07  \\\n",
       "block_id                                                                   \n",
       "0                634.752          75.891          13.355          16.152   \n",
       "1                636.800          77.237          13.352          16.164   \n",
       "\n",
       "          mean_sensor_08  mean_sensor_09  \n",
       "block_id                                  \n",
       "0                 15.692          15.081  \n",
       "1                 15.705          15.081  "
      ]
     },
     "execution_count": 764,
     "metadata": {},
     "output_type": "execute_result"
    }
   ],
   "source": [
    "df_mean = get_mean(df_sensor_log, num_feat)\n",
    "df_mean.head(2)"
   ]
  },
  {
   "cell_type": "code",
   "execution_count": 765,
   "id": "22387db0",
   "metadata": {},
   "outputs": [
    {
     "data": {
      "text/html": [
       "<div>\n",
       "<style scoped>\n",
       "    .dataframe tbody tr th:only-of-type {\n",
       "        vertical-align: middle;\n",
       "    }\n",
       "\n",
       "    .dataframe tbody tr th {\n",
       "        vertical-align: top;\n",
       "    }\n",
       "\n",
       "    .dataframe thead th {\n",
       "        text-align: right;\n",
       "    }\n",
       "</style>\n",
       "<table border=\"1\" class=\"dataframe\">\n",
       "  <thead>\n",
       "    <tr style=\"text-align: right;\">\n",
       "      <th></th>\n",
       "      <th>std_sensor_00</th>\n",
       "      <th>std_sensor_01</th>\n",
       "      <th>std_sensor_02</th>\n",
       "      <th>std_sensor_03</th>\n",
       "      <th>std_sensor_04</th>\n",
       "      <th>std_sensor_05</th>\n",
       "      <th>std_sensor_06</th>\n",
       "      <th>std_sensor_07</th>\n",
       "      <th>std_sensor_08</th>\n",
       "      <th>std_sensor_09</th>\n",
       "    </tr>\n",
       "    <tr>\n",
       "      <th>block_id</th>\n",
       "      <th></th>\n",
       "      <th></th>\n",
       "      <th></th>\n",
       "      <th></th>\n",
       "      <th></th>\n",
       "      <th></th>\n",
       "      <th></th>\n",
       "      <th></th>\n",
       "      <th></th>\n",
       "      <th></th>\n",
       "    </tr>\n",
       "  </thead>\n",
       "  <tbody>\n",
       "    <tr>\n",
       "      <th>0</th>\n",
       "      <td>0.009428</td>\n",
       "      <td>0.085641</td>\n",
       "      <td>0.025820</td>\n",
       "      <td>0.033731</td>\n",
       "      <td>4.059994</td>\n",
       "      <td>1.355536</td>\n",
       "      <td>0.062583</td>\n",
       "      <td>0.063910</td>\n",
       "      <td>0.207246</td>\n",
       "      <td>0.040675</td>\n",
       "    </tr>\n",
       "    <tr>\n",
       "      <th>1</th>\n",
       "      <td>0.009428</td>\n",
       "      <td>0.357454</td>\n",
       "      <td>0.171218</td>\n",
       "      <td>0.041312</td>\n",
       "      <td>5.398378</td>\n",
       "      <td>1.692658</td>\n",
       "      <td>0.037357</td>\n",
       "      <td>0.027162</td>\n",
       "      <td>0.145316</td>\n",
       "      <td>0.047714</td>\n",
       "    </tr>\n",
       "  </tbody>\n",
       "</table>\n",
       "</div>"
      ],
      "text/plain": [
       "          std_sensor_00  std_sensor_01  std_sensor_02  std_sensor_03  \\\n",
       "block_id                                                               \n",
       "0              0.009428       0.085641       0.025820       0.033731   \n",
       "1              0.009428       0.357454       0.171218       0.041312   \n",
       "\n",
       "          std_sensor_04  std_sensor_05  std_sensor_06  std_sensor_07  \\\n",
       "block_id                                                               \n",
       "0              4.059994       1.355536       0.062583       0.063910   \n",
       "1              5.398378       1.692658       0.037357       0.027162   \n",
       "\n",
       "          std_sensor_08  std_sensor_09  \n",
       "block_id                                \n",
       "0              0.207246       0.040675  \n",
       "1              0.145316       0.047714  "
      ]
     },
     "execution_count": 765,
     "metadata": {},
     "output_type": "execute_result"
    }
   ],
   "source": [
    "df_std = get_std(df_sensor_log, num_feat)\n",
    "df_std.head(2)"
   ]
  },
  {
   "cell_type": "code",
   "execution_count": 766,
   "id": "77d4b4e3",
   "metadata": {},
   "outputs": [
    {
     "data": {
      "text/html": [
       "<div>\n",
       "<style scoped>\n",
       "    .dataframe tbody tr th:only-of-type {\n",
       "        vertical-align: middle;\n",
       "    }\n",
       "\n",
       "    .dataframe tbody tr th {\n",
       "        vertical-align: top;\n",
       "    }\n",
       "\n",
       "    .dataframe thead th {\n",
       "        text-align: right;\n",
       "    }\n",
       "</style>\n",
       "<table border=\"1\" class=\"dataframe\">\n",
       "  <thead>\n",
       "    <tr style=\"text-align: right;\">\n",
       "      <th></th>\n",
       "      <th>max_sensor_00</th>\n",
       "      <th>max_sensor_01</th>\n",
       "      <th>max_sensor_02</th>\n",
       "      <th>max_sensor_03</th>\n",
       "      <th>max_sensor_04</th>\n",
       "      <th>max_sensor_05</th>\n",
       "      <th>max_sensor_06</th>\n",
       "      <th>max_sensor_07</th>\n",
       "      <th>max_sensor_08</th>\n",
       "      <th>max_sensor_09</th>\n",
       "    </tr>\n",
       "    <tr>\n",
       "      <th>block_id</th>\n",
       "      <th></th>\n",
       "      <th></th>\n",
       "      <th></th>\n",
       "      <th></th>\n",
       "      <th></th>\n",
       "      <th></th>\n",
       "      <th></th>\n",
       "      <th></th>\n",
       "      <th></th>\n",
       "      <th></th>\n",
       "    </tr>\n",
       "  </thead>\n",
       "  <tbody>\n",
       "    <tr>\n",
       "      <th>0</th>\n",
       "      <td>2.46</td>\n",
       "      <td>47.35</td>\n",
       "      <td>53.21</td>\n",
       "      <td>46.39</td>\n",
       "      <td>641.78</td>\n",
       "      <td>78.18</td>\n",
       "      <td>13.43</td>\n",
       "      <td>16.24</td>\n",
       "      <td>16.19</td>\n",
       "      <td>15.16</td>\n",
       "    </tr>\n",
       "    <tr>\n",
       "      <th>1</th>\n",
       "      <td>2.46</td>\n",
       "      <td>48.61</td>\n",
       "      <td>53.68</td>\n",
       "      <td>46.39</td>\n",
       "      <td>644.32</td>\n",
       "      <td>80.65</td>\n",
       "      <td>13.41</td>\n",
       "      <td>16.21</td>\n",
       "      <td>15.89</td>\n",
       "      <td>15.16</td>\n",
       "    </tr>\n",
       "  </tbody>\n",
       "</table>\n",
       "</div>"
      ],
      "text/plain": [
       "          max_sensor_00  max_sensor_01  max_sensor_02  max_sensor_03  \\\n",
       "block_id                                                               \n",
       "0                  2.46          47.35          53.21          46.39   \n",
       "1                  2.46          48.61          53.68          46.39   \n",
       "\n",
       "          max_sensor_04  max_sensor_05  max_sensor_06  max_sensor_07  \\\n",
       "block_id                                                               \n",
       "0                641.78          78.18          13.43          16.24   \n",
       "1                644.32          80.65          13.41          16.21   \n",
       "\n",
       "          max_sensor_08  max_sensor_09  \n",
       "block_id                                \n",
       "0                 16.19          15.16  \n",
       "1                 15.89          15.16  "
      ]
     },
     "execution_count": 766,
     "metadata": {},
     "output_type": "execute_result"
    }
   ],
   "source": [
    "df_max = get_max(df_sensor_log, num_feat)\n",
    "df_max.head(2)"
   ]
  },
  {
   "cell_type": "code",
   "execution_count": 767,
   "id": "28ec46d5",
   "metadata": {},
   "outputs": [
    {
     "data": {
      "text/html": [
       "<div>\n",
       "<style scoped>\n",
       "    .dataframe tbody tr th:only-of-type {\n",
       "        vertical-align: middle;\n",
       "    }\n",
       "\n",
       "    .dataframe tbody tr th {\n",
       "        vertical-align: top;\n",
       "    }\n",
       "\n",
       "    .dataframe thead th {\n",
       "        text-align: right;\n",
       "    }\n",
       "</style>\n",
       "<table border=\"1\" class=\"dataframe\">\n",
       "  <thead>\n",
       "    <tr style=\"text-align: right;\">\n",
       "      <th></th>\n",
       "      <th>min_sensor_00</th>\n",
       "      <th>min_sensor_01</th>\n",
       "      <th>min_sensor_02</th>\n",
       "      <th>min_sensor_03</th>\n",
       "      <th>min_sensor_04</th>\n",
       "      <th>min_sensor_05</th>\n",
       "      <th>min_sensor_06</th>\n",
       "      <th>min_sensor_07</th>\n",
       "      <th>min_sensor_08</th>\n",
       "      <th>min_sensor_09</th>\n",
       "    </tr>\n",
       "    <tr>\n",
       "      <th>block_id</th>\n",
       "      <th></th>\n",
       "      <th></th>\n",
       "      <th></th>\n",
       "      <th></th>\n",
       "      <th></th>\n",
       "      <th></th>\n",
       "      <th></th>\n",
       "      <th></th>\n",
       "      <th></th>\n",
       "      <th></th>\n",
       "    </tr>\n",
       "  </thead>\n",
       "  <tbody>\n",
       "    <tr>\n",
       "      <th>0</th>\n",
       "      <td>2.44</td>\n",
       "      <td>47.04</td>\n",
       "      <td>53.16</td>\n",
       "      <td>46.31</td>\n",
       "      <td>628.12</td>\n",
       "      <td>73.54</td>\n",
       "      <td>13.25</td>\n",
       "      <td>16.03</td>\n",
       "      <td>15.47</td>\n",
       "      <td>15.01</td>\n",
       "    </tr>\n",
       "    <tr>\n",
       "      <th>1</th>\n",
       "      <td>2.44</td>\n",
       "      <td>47.48</td>\n",
       "      <td>53.12</td>\n",
       "      <td>46.31</td>\n",
       "      <td>630.09</td>\n",
       "      <td>74.58</td>\n",
       "      <td>13.30</td>\n",
       "      <td>16.13</td>\n",
       "      <td>15.45</td>\n",
       "      <td>15.01</td>\n",
       "    </tr>\n",
       "  </tbody>\n",
       "</table>\n",
       "</div>"
      ],
      "text/plain": [
       "          min_sensor_00  min_sensor_01  min_sensor_02  min_sensor_03  \\\n",
       "block_id                                                               \n",
       "0                  2.44          47.04          53.16          46.31   \n",
       "1                  2.44          47.48          53.12          46.31   \n",
       "\n",
       "          min_sensor_04  min_sensor_05  min_sensor_06  min_sensor_07  \\\n",
       "block_id                                                               \n",
       "0                628.12          73.54          13.25          16.03   \n",
       "1                630.09          74.58          13.30          16.13   \n",
       "\n",
       "          min_sensor_08  min_sensor_09  \n",
       "block_id                                \n",
       "0                 15.47          15.01  \n",
       "1                 15.45          15.01  "
      ]
     },
     "execution_count": 767,
     "metadata": {},
     "output_type": "execute_result"
    }
   ],
   "source": [
    "df_min = get_min(df_sensor_log, num_feat)\n",
    "df_min.head(2)"
   ]
  },
  {
   "cell_type": "code",
   "execution_count": 768,
   "id": "4fe227c4",
   "metadata": {},
   "outputs": [
    {
     "data": {
      "text/html": [
       "<div>\n",
       "<style scoped>\n",
       "    .dataframe tbody tr th:only-of-type {\n",
       "        vertical-align: middle;\n",
       "    }\n",
       "\n",
       "    .dataframe tbody tr th {\n",
       "        vertical-align: top;\n",
       "    }\n",
       "\n",
       "    .dataframe thead th {\n",
       "        text-align: right;\n",
       "    }\n",
       "</style>\n",
       "<table border=\"1\" class=\"dataframe\">\n",
       "  <thead>\n",
       "    <tr style=\"text-align: right;\">\n",
       "      <th></th>\n",
       "      <th>sum_sensor_00</th>\n",
       "      <th>sum_sensor_01</th>\n",
       "      <th>sum_sensor_02</th>\n",
       "      <th>sum_sensor_03</th>\n",
       "      <th>sum_sensor_04</th>\n",
       "      <th>sum_sensor_05</th>\n",
       "      <th>sum_sensor_06</th>\n",
       "      <th>sum_sensor_07</th>\n",
       "      <th>sum_sensor_08</th>\n",
       "      <th>sum_sensor_09</th>\n",
       "    </tr>\n",
       "    <tr>\n",
       "      <th>block_id</th>\n",
       "      <th></th>\n",
       "      <th></th>\n",
       "      <th></th>\n",
       "      <th></th>\n",
       "      <th></th>\n",
       "      <th></th>\n",
       "      <th></th>\n",
       "      <th></th>\n",
       "      <th></th>\n",
       "      <th></th>\n",
       "    </tr>\n",
       "  </thead>\n",
       "  <tbody>\n",
       "    <tr>\n",
       "      <th>0</th>\n",
       "      <td>24.5</td>\n",
       "      <td>471.27</td>\n",
       "      <td>531.80</td>\n",
       "      <td>463.74</td>\n",
       "      <td>6347.52</td>\n",
       "      <td>758.91</td>\n",
       "      <td>133.55</td>\n",
       "      <td>161.52</td>\n",
       "      <td>156.92</td>\n",
       "      <td>150.81</td>\n",
       "    </tr>\n",
       "    <tr>\n",
       "      <th>1</th>\n",
       "      <td>24.5</td>\n",
       "      <td>483.12</td>\n",
       "      <td>531.96</td>\n",
       "      <td>463.58</td>\n",
       "      <td>6368.00</td>\n",
       "      <td>772.37</td>\n",
       "      <td>133.52</td>\n",
       "      <td>161.64</td>\n",
       "      <td>157.05</td>\n",
       "      <td>150.81</td>\n",
       "    </tr>\n",
       "  </tbody>\n",
       "</table>\n",
       "</div>"
      ],
      "text/plain": [
       "          sum_sensor_00  sum_sensor_01  sum_sensor_02  sum_sensor_03  \\\n",
       "block_id                                                               \n",
       "0                  24.5         471.27         531.80         463.74   \n",
       "1                  24.5         483.12         531.96         463.58   \n",
       "\n",
       "          sum_sensor_04  sum_sensor_05  sum_sensor_06  sum_sensor_07  \\\n",
       "block_id                                                               \n",
       "0               6347.52         758.91         133.55         161.52   \n",
       "1               6368.00         772.37         133.52         161.64   \n",
       "\n",
       "          sum_sensor_08  sum_sensor_09  \n",
       "block_id                                \n",
       "0                156.92         150.81  \n",
       "1                157.05         150.81  "
      ]
     },
     "execution_count": 768,
     "metadata": {},
     "output_type": "execute_result"
    }
   ],
   "source": [
    "df_sum = get_sum(df_sensor_log, num_feat)\n",
    "df_sum.head(2)"
   ]
  },
  {
   "cell_type": "code",
   "execution_count": 769,
   "id": "052e61c7",
   "metadata": {},
   "outputs": [
    {
     "data": {
      "text/html": [
       "<div>\n",
       "<style scoped>\n",
       "    .dataframe tbody tr th:only-of-type {\n",
       "        vertical-align: middle;\n",
       "    }\n",
       "\n",
       "    .dataframe tbody tr th {\n",
       "        vertical-align: top;\n",
       "    }\n",
       "\n",
       "    .dataframe thead th {\n",
       "        text-align: right;\n",
       "    }\n",
       "</style>\n",
       "<table border=\"1\" class=\"dataframe\">\n",
       "  <thead>\n",
       "    <tr style=\"text-align: right;\">\n",
       "      <th></th>\n",
       "      <th>block_id</th>\n",
       "      <th>mean_sensor_00</th>\n",
       "      <th>mean_sensor_01</th>\n",
       "      <th>mean_sensor_02</th>\n",
       "      <th>mean_sensor_03</th>\n",
       "      <th>mean_sensor_04</th>\n",
       "      <th>mean_sensor_05</th>\n",
       "      <th>mean_sensor_06</th>\n",
       "      <th>mean_sensor_07</th>\n",
       "      <th>mean_sensor_08</th>\n",
       "      <th>...</th>\n",
       "      <th>sum_sensor_00</th>\n",
       "      <th>sum_sensor_01</th>\n",
       "      <th>sum_sensor_02</th>\n",
       "      <th>sum_sensor_03</th>\n",
       "      <th>sum_sensor_04</th>\n",
       "      <th>sum_sensor_05</th>\n",
       "      <th>sum_sensor_06</th>\n",
       "      <th>sum_sensor_07</th>\n",
       "      <th>sum_sensor_08</th>\n",
       "      <th>sum_sensor_09</th>\n",
       "    </tr>\n",
       "  </thead>\n",
       "  <tbody>\n",
       "    <tr>\n",
       "      <th>0</th>\n",
       "      <td>0</td>\n",
       "      <td>2.45</td>\n",
       "      <td>47.127</td>\n",
       "      <td>53.180</td>\n",
       "      <td>46.374</td>\n",
       "      <td>634.752</td>\n",
       "      <td>75.891</td>\n",
       "      <td>13.355</td>\n",
       "      <td>16.152</td>\n",
       "      <td>15.692</td>\n",
       "      <td>...</td>\n",
       "      <td>24.5</td>\n",
       "      <td>471.27</td>\n",
       "      <td>531.80</td>\n",
       "      <td>463.74</td>\n",
       "      <td>6347.52</td>\n",
       "      <td>758.91</td>\n",
       "      <td>133.55</td>\n",
       "      <td>161.52</td>\n",
       "      <td>156.92</td>\n",
       "      <td>150.81</td>\n",
       "    </tr>\n",
       "    <tr>\n",
       "      <th>1</th>\n",
       "      <td>1</td>\n",
       "      <td>2.45</td>\n",
       "      <td>48.312</td>\n",
       "      <td>53.196</td>\n",
       "      <td>46.358</td>\n",
       "      <td>636.800</td>\n",
       "      <td>77.237</td>\n",
       "      <td>13.352</td>\n",
       "      <td>16.164</td>\n",
       "      <td>15.705</td>\n",
       "      <td>...</td>\n",
       "      <td>24.5</td>\n",
       "      <td>483.12</td>\n",
       "      <td>531.96</td>\n",
       "      <td>463.58</td>\n",
       "      <td>6368.00</td>\n",
       "      <td>772.37</td>\n",
       "      <td>133.52</td>\n",
       "      <td>161.64</td>\n",
       "      <td>157.05</td>\n",
       "      <td>150.81</td>\n",
       "    </tr>\n",
       "  </tbody>\n",
       "</table>\n",
       "<p>2 rows × 51 columns</p>\n",
       "</div>"
      ],
      "text/plain": [
       "   block_id  mean_sensor_00  mean_sensor_01  mean_sensor_02  mean_sensor_03  \\\n",
       "0         0            2.45          47.127          53.180          46.374   \n",
       "1         1            2.45          48.312          53.196          46.358   \n",
       "\n",
       "   mean_sensor_04  mean_sensor_05  mean_sensor_06  mean_sensor_07  \\\n",
       "0         634.752          75.891          13.355          16.152   \n",
       "1         636.800          77.237          13.352          16.164   \n",
       "\n",
       "   mean_sensor_08  ...  sum_sensor_00  sum_sensor_01  sum_sensor_02  \\\n",
       "0          15.692  ...           24.5         471.27         531.80   \n",
       "1          15.705  ...           24.5         483.12         531.96   \n",
       "\n",
       "   sum_sensor_03  sum_sensor_04  sum_sensor_05  sum_sensor_06  sum_sensor_07  \\\n",
       "0         463.74        6347.52         758.91         133.55         161.52   \n",
       "1         463.58        6368.00         772.37         133.52         161.64   \n",
       "\n",
       "   sum_sensor_08  sum_sensor_09  \n",
       "0         156.92         150.81  \n",
       "1         157.05         150.81  \n",
       "\n",
       "[2 rows x 51 columns]"
      ]
     },
     "execution_count": 769,
     "metadata": {},
     "output_type": "execute_result"
    }
   ],
   "source": [
    "df_all = pd.concat([df_mean, df_std, df_max, df_min, df_sum], axis=1).reset_index()\n",
    "df_all.head(2)"
   ]
  },
  {
   "cell_type": "code",
   "execution_count": 770,
   "id": "b5753e54",
   "metadata": {},
   "outputs": [],
   "source": [
    "# df_all = denoise(df_all)"
   ]
  },
  {
   "cell_type": "markdown",
   "id": "9012ef58",
   "metadata": {},
   "source": [
    "### Split data train, test"
   ]
  },
  {
   "cell_type": "code",
   "execution_count": 771,
   "id": "6cdca261",
   "metadata": {},
   "outputs": [
    {
     "data": {
      "text/html": [
       "<div>\n",
       "<style scoped>\n",
       "    .dataframe tbody tr th:only-of-type {\n",
       "        vertical-align: middle;\n",
       "    }\n",
       "\n",
       "    .dataframe tbody tr th {\n",
       "        vertical-align: top;\n",
       "    }\n",
       "\n",
       "    .dataframe thead th {\n",
       "        text-align: right;\n",
       "    }\n",
       "</style>\n",
       "<table border=\"1\" class=\"dataframe\">\n",
       "  <thead>\n",
       "    <tr style=\"text-align: right;\">\n",
       "      <th></th>\n",
       "      <th>block_id</th>\n",
       "      <th>mean_sensor_00</th>\n",
       "      <th>mean_sensor_01</th>\n",
       "      <th>mean_sensor_02</th>\n",
       "      <th>mean_sensor_03</th>\n",
       "      <th>mean_sensor_04</th>\n",
       "      <th>mean_sensor_05</th>\n",
       "      <th>mean_sensor_06</th>\n",
       "      <th>mean_sensor_07</th>\n",
       "      <th>mean_sensor_08</th>\n",
       "      <th>...</th>\n",
       "      <th>sum_sensor_00</th>\n",
       "      <th>sum_sensor_01</th>\n",
       "      <th>sum_sensor_02</th>\n",
       "      <th>sum_sensor_03</th>\n",
       "      <th>sum_sensor_04</th>\n",
       "      <th>sum_sensor_05</th>\n",
       "      <th>sum_sensor_06</th>\n",
       "      <th>sum_sensor_07</th>\n",
       "      <th>sum_sensor_08</th>\n",
       "      <th>sum_sensor_09</th>\n",
       "    </tr>\n",
       "  </thead>\n",
       "  <tbody>\n",
       "    <tr>\n",
       "      <th>0</th>\n",
       "      <td>144</td>\n",
       "      <td>2.449</td>\n",
       "      <td>45.689</td>\n",
       "      <td>52.320</td>\n",
       "      <td>44.822</td>\n",
       "      <td>634.568</td>\n",
       "      <td>79.320</td>\n",
       "      <td>13.089</td>\n",
       "      <td>16.155</td>\n",
       "      <td>15.629</td>\n",
       "      <td>...</td>\n",
       "      <td>24.49</td>\n",
       "      <td>456.89</td>\n",
       "      <td>523.20</td>\n",
       "      <td>448.22</td>\n",
       "      <td>6345.68</td>\n",
       "      <td>793.20</td>\n",
       "      <td>130.89</td>\n",
       "      <td>161.55</td>\n",
       "      <td>156.29</td>\n",
       "      <td>150.98</td>\n",
       "    </tr>\n",
       "    <tr>\n",
       "      <th>1</th>\n",
       "      <td>145</td>\n",
       "      <td>2.449</td>\n",
       "      <td>45.809</td>\n",
       "      <td>52.328</td>\n",
       "      <td>44.895</td>\n",
       "      <td>632.032</td>\n",
       "      <td>81.681</td>\n",
       "      <td>13.020</td>\n",
       "      <td>16.157</td>\n",
       "      <td>15.627</td>\n",
       "      <td>...</td>\n",
       "      <td>24.49</td>\n",
       "      <td>458.09</td>\n",
       "      <td>523.28</td>\n",
       "      <td>448.95</td>\n",
       "      <td>6320.32</td>\n",
       "      <td>816.81</td>\n",
       "      <td>130.20</td>\n",
       "      <td>161.57</td>\n",
       "      <td>156.27</td>\n",
       "      <td>150.74</td>\n",
       "    </tr>\n",
       "  </tbody>\n",
       "</table>\n",
       "<p>2 rows × 51 columns</p>\n",
       "</div>"
      ],
      "text/plain": [
       "   block_id  mean_sensor_00  mean_sensor_01  mean_sensor_02  mean_sensor_03  \\\n",
       "0       144           2.449          45.689          52.320          44.822   \n",
       "1       145           2.449          45.809          52.328          44.895   \n",
       "\n",
       "   mean_sensor_04  mean_sensor_05  mean_sensor_06  mean_sensor_07  \\\n",
       "0         634.568          79.320          13.089          16.155   \n",
       "1         632.032          81.681          13.020          16.157   \n",
       "\n",
       "   mean_sensor_08  ...  sum_sensor_00  sum_sensor_01  sum_sensor_02  \\\n",
       "0          15.629  ...          24.49         456.89         523.20   \n",
       "1          15.627  ...          24.49         458.09         523.28   \n",
       "\n",
       "   sum_sensor_03  sum_sensor_04  sum_sensor_05  sum_sensor_06  sum_sensor_07  \\\n",
       "0         448.22        6345.68         793.20         130.89         161.55   \n",
       "1         448.95        6320.32         816.81         130.20         161.57   \n",
       "\n",
       "   sum_sensor_08  sum_sensor_09  \n",
       "0         156.29         150.98  \n",
       "1         156.27         150.74  \n",
       "\n",
       "[2 rows x 51 columns]"
      ]
     },
     "execution_count": 771,
     "metadata": {},
     "output_type": "execute_result"
    }
   ],
   "source": [
    "## Split train test\n",
    "blockid_train = df_label['block_id'].values\n",
    "_train = df_all['block_id'].isin(blockid_train)\n",
    "df_train = df_all[_train].reset_index(drop=True)\n",
    "df_test = df_all[~_train].reset_index(drop=True)\n",
    "\n",
    "df_train.head(2)"
   ]
  },
  {
   "cell_type": "code",
   "execution_count": 772,
   "id": "d219091b",
   "metadata": {},
   "outputs": [
    {
     "data": {
      "text/plain": [
       "(5424, 1357)"
      ]
     },
     "execution_count": 772,
     "metadata": {},
     "output_type": "execute_result"
    }
   ],
   "source": [
    "block_id = df_label['block_id'].values\n",
    "anomalous = df_label['anomalous'].values\n",
    "\n",
    "x_train, x_test, y_train, y_test = train_test_split(block_id, anomalous, test_size=0.2, random_state=42)\n",
    "\n",
    "len(x_train), len(x_test)"
   ]
  },
  {
   "cell_type": "code",
   "execution_count": 774,
   "id": "c9ab963b",
   "metadata": {},
   "outputs": [
    {
     "data": {
      "text/plain": [
       "(6781, 6781)"
      ]
     },
     "execution_count": 774,
     "metadata": {},
     "output_type": "execute_result"
    }
   ],
   "source": [
    "data_train = df_train[df_train['block_id'].isin(x_train)]\n",
    "data_val = df_train[df_train['block_id'].isin(x_test)]\n",
    "\n",
    "data_train_label = df_label[df_label['block_id'].isin(x_train)]\n",
    "data_val_label = df_label[df_label['block_id'].isin(x_test)]\n",
    "\n",
    "len(data_train) + len(data_val), len(data_train_label) + len(data_val_label)"
   ]
  },
  {
   "cell_type": "markdown",
   "id": "aca2a38a",
   "metadata": {},
   "source": [
    "### Trainning"
   ]
  },
  {
   "cell_type": "code",
   "execution_count": 775,
   "id": "e06051e9",
   "metadata": {},
   "outputs": [],
   "source": [
    "from sklearn.ensemble import RandomForestClassifier\n",
    "from sklearn.pipeline import make_pipeline\n",
    "from sklearn.preprocessing import StandardScaler, RobustScaler\n",
    "from sklearn.svm import SVC"
   ]
  },
  {
   "cell_type": "code",
   "execution_count": 776,
   "id": "6ef95fc7",
   "metadata": {},
   "outputs": [],
   "source": [
    "num_features = df_all.columns.to_list()[1:]"
   ]
  },
  {
   "cell_type": "code",
   "execution_count": 777,
   "id": "9fec372f",
   "metadata": {},
   "outputs": [],
   "source": [
    "train = data_train[num_features].values\n",
    "val = data_val[num_features].values\n",
    "\n",
    "y_train = data_train_label['anomalous'].values\n",
    "y_val = data_val_label['anomalous'].values"
   ]
  },
  {
   "cell_type": "code",
   "execution_count": 786,
   "id": "c6768725",
   "metadata": {},
   "outputs": [],
   "source": [
    "train_all = np.concatenate([train, val], axis=0)\n",
    "y_all = np.concatenate([y_train, y_val], axis=0)"
   ]
  },
  {
   "cell_type": "code",
   "execution_count": 787,
   "id": "41ceb3fa",
   "metadata": {},
   "outputs": [
    {
     "data": {
      "text/plain": [
       "Pipeline(steps=[('standardscaler', StandardScaler()),\n",
       "                ('randomforestclassifier',\n",
       "                 RandomForestClassifier(ccp_alpha=0.0002, criterion='entropy',\n",
       "                                        max_depth=15, n_estimators=200,\n",
       "                                        random_state=42))])"
      ]
     },
     "execution_count": 787,
     "metadata": {},
     "output_type": "execute_result"
    }
   ],
   "source": [
    "# clf = make_pipeline(StandardScaler(), SVC(gamma='auto', probability=True))\n",
    "# clf = make_pipeline(StandardScaler(), RandomForestClassifier(max_depth=15, random_state=42, n_estimators=100))\n",
    "clf = make_pipeline(StandardScaler(), RandomForestClassifier(max_depth=15, random_state=42, n_estimators=200, ccp_alpha=0.0002, criterion=\"entropy\", bootstrap=True))\n",
    "# clf.fit(train, y_train)\n",
    "clf.fit(train_all, y_all)"
   ]
  },
  {
   "cell_type": "code",
   "execution_count": 788,
   "id": "f5b1d15b",
   "metadata": {},
   "outputs": [],
   "source": [
    "# clf = make_pipeline(StandardScaler(), SVC(gamma='scale', probability=True, C=1, kernel='sigmoid'))\n",
    "# clf.fit(train, y_train)"
   ]
  },
  {
   "cell_type": "code",
   "execution_count": 789,
   "id": "695c169a",
   "metadata": {},
   "outputs": [],
   "source": [
    "result = clf.predict_proba(val)"
   ]
  },
  {
   "cell_type": "code",
   "execution_count": 790,
   "id": "1c10734c",
   "metadata": {},
   "outputs": [],
   "source": [
    "y_pred = result[:, 1]\n",
    "# y_pred"
   ]
  },
  {
   "cell_type": "code",
   "execution_count": 791,
   "id": "0c2a725a",
   "metadata": {},
   "outputs": [],
   "source": [
    "val_metric = roc_auc_score(y_val, y_pred)"
   ]
  },
  {
   "cell_type": "code",
   "execution_count": 792,
   "id": "b4e5ea40",
   "metadata": {},
   "outputs": [
    {
     "data": {
      "text/plain": [
       "1.0"
      ]
     },
     "execution_count": 792,
     "metadata": {},
     "output_type": "execute_result"
    }
   ],
   "source": [
    "val_metric"
   ]
  },
  {
   "cell_type": "code",
   "execution_count": null,
   "id": "dc6a3b13",
   "metadata": {},
   "outputs": [],
   "source": []
  },
  {
   "cell_type": "code",
   "execution_count": 793,
   "id": "af1b4e06",
   "metadata": {},
   "outputs": [],
   "source": [
    "## Generate result\n",
    "\n",
    "test = df_test[num_features].values\n",
    "result = clf.predict_proba(test)\n",
    "anomalous = result[:, 1]\n",
    "df_sub['anomaly_score'] = anomalous\n",
    "df_sub.to_csv('submission_11.csv', index=False)"
   ]
  },
  {
   "cell_type": "markdown",
   "id": "a9e51b0e",
   "metadata": {},
   "source": [
    "### Kfold"
   ]
  },
  {
   "cell_type": "code",
   "execution_count": 794,
   "id": "bd3ca21d",
   "metadata": {},
   "outputs": [
    {
     "name": "stdout",
     "output_type": "stream",
     "text": [
      "Fflod:  0\n",
      "Val metric:  0.7134860050890585\n",
      "Fflod:  1\n",
      "Val metric:  0.842929292929293\n",
      "Fflod:  2\n",
      "Val metric:  0.8472746578574799\n",
      "Fflod:  3\n",
      "Val metric:  0.9124811178247734\n",
      "Fflod:  4\n",
      "Val metric:  0.8258431965827179\n",
      "Fflod:  5\n",
      "Val metric:  0.9236216012084593\n",
      "Fflod:  6\n",
      "Val metric:  0.8502269288956128\n",
      "Fflod:  7\n",
      "Val metric:  0.886535552193646\n",
      "Fflod:  8\n",
      "Val metric:  0.9964753492015144\n",
      "Fflod:  9\n"
     ]
    }
   ],
   "source": [
    "from sklearn.model_selection import KFold\n",
    "\n",
    "kf = KFold(n_splits=10)\n",
    "kf.get_n_splits(block_id)\n",
    "clf = make_pipeline(StandardScaler(), RandomForestClassifier(max_depth=15, random_state=42, n_estimators=200, ccp_alpha=0.0002, criterion=\"entropy\", bootstrap=True))\n",
    "\n",
    "num_features = df_all.columns.to_list()[1:]\n",
    "result_anomalous = []\n",
    "\n",
    "block_id = df_label['block_id'].values\n",
    "anomalous = df_label['anomalous'].values\n",
    "f = open(\"log.txt\", 'w')\n",
    "for i, (train_index, test_index) in enumerate(kf.split(block_id)):\n",
    "    print(\"Fflod: \", i)\n",
    "\n",
    "    x_train, x_test, y_train, y_test = block_id[train_index], block_id[test_index], anomalous[train_index], anomalous[test_index]\n",
    "    \n",
    "    data_train = df_train[df_train['block_id'].isin(x_train)]\n",
    "    data_val = df_train[df_train['block_id'].isin(x_test)]\n",
    "\n",
    "    data_train_label = df_label[df_label['block_id'].isin(x_train)]\n",
    "    data_val_label = df_label[df_label['block_id'].isin(x_test)]\n",
    "\n",
    "    train = data_train[num_features].values\n",
    "    val = data_val[num_features].values\n",
    "\n",
    "    y_train = data_train_label['anomalous'].values\n",
    "    y_val = data_val_label['anomalous'].values\n",
    "    \n",
    "    clf.fit(train, y_train)\n",
    "\n",
    "    result_val = clf.predict_proba(val)\n",
    "    \n",
    "    y_pred = result_val[:, 1]\n",
    "    try:\n",
    "        val_metric = roc_auc_score(y_val, y_pred)\n",
    "    except:\n",
    "        continue\n",
    "\n",
    "    if val_metric > 0.8:\n",
    "        test = df_test[num_features].values\n",
    "        result_test = clf.predict_proba(test)\n",
    "        anomalous_test = result_test[:, 1]\n",
    "        result_anomalous.append(anomalous_test)\n",
    "\n",
    "    print(\"Val metric: \", val_metric)\n",
    "    f.write(f\"Fold {i}: val metric: {val_metric}\\n\")\n",
    "f.close()\n"
   ]
  },
  {
   "cell_type": "code",
   "execution_count": 795,
   "id": "4297d357",
   "metadata": {},
   "outputs": [
    {
     "data": {
      "text/plain": [
       "(8, (13502,))"
      ]
     },
     "execution_count": 795,
     "metadata": {},
     "output_type": "execute_result"
    }
   ],
   "source": [
    "len(result_anomalous), result_anomalous[0].shape"
   ]
  },
  {
   "cell_type": "code",
   "execution_count": 796,
   "id": "3b7bd3f6",
   "metadata": {},
   "outputs": [
    {
     "data": {
      "text/plain": [
       "(13502,)"
      ]
     },
     "execution_count": 796,
     "metadata": {},
     "output_type": "execute_result"
    }
   ],
   "source": [
    "anomalous_score = np.vstack(result_anomalous)\n",
    "anomalous_score_mean = np.mean(anomalous_score, axis=0)\n",
    "anomalous_score_mean.shape"
   ]
  },
  {
   "cell_type": "code",
   "execution_count": 797,
   "id": "1911ad0d",
   "metadata": {},
   "outputs": [],
   "source": [
    "df_sub['anomaly_score'] = anomalous_score_mean\n",
    "df_sub.to_csv('submission_12.csv', index=False)"
   ]
  },
  {
   "cell_type": "markdown",
   "id": "21325649",
   "metadata": {},
   "source": [
    "#### Gird search"
   ]
  },
  {
   "cell_type": "code",
   "execution_count": 262,
   "id": "e63c13c4",
   "metadata": {},
   "outputs": [],
   "source": [
    "train = data_train[num_features].values\n",
    "val = data_val[num_features].values\n",
    "\n",
    "y_train = data_train_label['anomalous'].values\n",
    "y_val = data_val_label['anomalous'].values"
   ]
  },
  {
   "cell_type": "code",
   "execution_count": null,
   "id": "73c3e654",
   "metadata": {},
   "outputs": [],
   "source": [
    "from sklearn.model_selection import GridSearchCV\n",
    "\n",
    "parameters = {'n_estimators':[50, 100, 200],\n",
    "              'max_depth': [5, 15, 30, 40],\n",
    "              'min_samples_split': [2, 5, 10],\n",
    "              'min_samples_leaf': [1, 5, 9],\n",
    "              'max_features': [5, 15, 25],\n",
    "#               'min_weight_fraction_leaf': [0.0, 0.1, 0.2, 0.3],\n",
    "#               'bootstrap': [True, False],\n",
    "#               'ccp_alpha': [0.0, 0.1, 0.2],\n",
    "#               'max_samples': [0.2, 0]\n",
    "              }\n",
    "rf = RandomForestClassifier(random_state=42)\n",
    "clf = GridSearchCV(rf, parameters, verbose=3, n_jobs=6)\n",
    "\n",
    "clf.fit(train, y_train)"
   ]
  },
  {
   "cell_type": "code",
   "execution_count": null,
   "id": "4848eac3",
   "metadata": {},
   "outputs": [],
   "source": []
  }
 ],
 "metadata": {
  "kernelspec": {
   "display_name": "Python 3 (ipykernel)",
   "language": "python",
   "name": "python3"
  },
  "language_info": {
   "codemirror_mode": {
    "name": "ipython",
    "version": 3
   },
   "file_extension": ".py",
   "mimetype": "text/x-python",
   "name": "python",
   "nbconvert_exporter": "python",
   "pygments_lexer": "ipython3",
   "version": "3.8.12"
  }
 },
 "nbformat": 4,
 "nbformat_minor": 5
}
