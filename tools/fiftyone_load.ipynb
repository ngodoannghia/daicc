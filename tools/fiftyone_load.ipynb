{
 "cells": [
  {
   "cell_type": "code",
   "execution_count": 12,
   "metadata": {},
   "outputs": [],
   "source": [
    "import fiftyone as fo"
   ]
  },
  {
   "cell_type": "code",
   "execution_count": 13,
   "metadata": {},
   "outputs": [],
   "source": [
    "name = 'dacon'\n",
    "dataset_dir = '../data/'\n",
    "\n",
    "dataset_type = fo.types.YOLOv5Dataset"
   ]
  },
  {
   "cell_type": "code",
   "execution_count": 14,
   "metadata": {},
   "outputs": [
    {
     "name": "stdout",
     "output_type": "stream",
     "text": [
      " 100% |███████████████| 6481/6481 [6.8s elapsed, 0s remaining, 928.5 samples/s]       \n"
     ]
    }
   ],
   "source": [
    "dataset = fo.Dataset.from_dir(\n",
    "    dataset_dir=dataset_dir,\n",
    "    dataset_type=dataset_type,\n",
    ")"
   ]
  },
  {
   "cell_type": "code",
   "execution_count": null,
   "metadata": {},
   "outputs": [],
   "source": [
    "session = fo.launch_app(dataset, address=\"localhost\", port=5151)"
   ]
  },
  {
   "cell_type": "code",
   "execution_count": 19,
   "metadata": {},
   "outputs": [],
   "source": [
    "import fiftyone.utils.random as four\n",
    "from fiftyone import ViewField as F\n",
    "import fiftyone.zoo as foz"
   ]
  },
  {
   "cell_type": "code",
   "execution_count": 24,
   "metadata": {},
   "outputs": [
    {
     "data": {
      "text/html": [
       "\n",
       "        <iframe\n",
       "            width=\"100%\"\n",
       "            height=\"800\"\n",
       "            src=\"http://localhost:5151/?notebook=True&subscription=6e6bf879-d67c-4073-a75b-0c317168c263\"\n",
       "            frameborder=\"0\"\n",
       "            allowfullscreen\n",
       "            \n",
       "        ></iframe>\n",
       "        "
      ],
      "text/plain": [
       "<IPython.lib.display.IFrame at 0x224b1cce400>"
      ]
     },
     "metadata": {},
     "output_type": "display_data"
    }
   ],
   "source": [
    "view = dataset.match(F('ground_truth.detections').length() > 0)\n",
    "session.view = view"
   ]
  },
  {
   "cell_type": "code",
   "execution_count": 25,
   "metadata": {},
   "outputs": [
    {
     "data": {
      "text/plain": [
       "{'19': 500,\n",
       " '22': 500,\n",
       " '27': 500,\n",
       " '13': 500,\n",
       " '30': 500,\n",
       " '2': 500,\n",
       " '28': 500,\n",
       " '5': 500,\n",
       " '26': 500,\n",
       " '17': 500,\n",
       " '24': 500,\n",
       " '21': 500,\n",
       " '4': 500,\n",
       " '11': 500,\n",
       " '33': 500,\n",
       " '32': 500,\n",
       " '0': 500,\n",
       " '7': 500,\n",
       " '20': 500,\n",
       " '29': 500,\n",
       " '15': 500,\n",
       " '16': 500,\n",
       " '25': 500,\n",
       " '3': 500,\n",
       " '14': 500,\n",
       " '12': 500,\n",
       " '1': 500,\n",
       " '9': 500,\n",
       " '23': 500,\n",
       " '31': 500,\n",
       " '6': 500,\n",
       " '10': 500,\n",
       " '8': 500,\n",
       " '18': 500}"
      ]
     },
     "execution_count": 25,
     "metadata": {},
     "output_type": "execute_result"
    }
   ],
   "source": [
    "\n",
    "four.random_split(view, {\"train\": 0.9, \"val\": 0.1},seed=42)\n",
    "view.count_values('ground_truth.detections.label')"
   ]
  },
  {
   "cell_type": "code",
   "execution_count": 26,
   "metadata": {},
   "outputs": [
    {
     "name": "stdout",
     "output_type": "stream",
     "text": [
      "train {'19': 447, '22': 446, '27': 449, '13': 447, '30': 451, '2': 454, '28': 450, '5': 448, '26': 441, '17': 455, '24': 455, '21': 436, '4': 446, '11': 447, '33': 441, '32': 453, '0': 448, '7': 451, '20': 454, '29': 455, '15': 453, '16': 447, '25': 454, '3': 450, '14': 459, '12': 462, '1': 465, '9': 462, '23': 447, '31': 449, '6': 450, '10': 452, '8': 447, '18': 440}\n",
      "val {'8': 53, '13': 53, '27': 51, '30': 49, '19': 53, '18': 60, '22': 54, '23': 53, '9': 38, '6': 50, '31': 51, '10': 48, '25': 46, '1': 35, '12': 38, '16': 53, '3': 50, '14': 41, '0': 52, '7': 49, '15': 47, '29': 45, '20': 46, '33': 59, '32': 47, '24': 45, '17': 45, '26': 59, '11': 53, '4': 54, '21': 64, '2': 46, '5': 52, '28': 50}\n"
     ]
    }
   ],
   "source": [
    "for t in ['train','val']:\n",
    "    print(t, view.match_tags(t).count_values('ground_truth.detections.label'))"
   ]
  },
  {
   "cell_type": "code",
   "execution_count": 32,
   "metadata": {},
   "outputs": [],
   "source": [
    "with open('../data/classes.txt', 'r') as f:\n",
    "    data = f.read()\n",
    "\n",
    "data = data.split('\\n')\n",
    "name_class = [str(a) for a in range(34)]"
   ]
  },
  {
   "cell_type": "code",
   "execution_count": 35,
   "metadata": {},
   "outputs": [
    {
     "name": "stdout",
     "output_type": "stream",
     "text": [
      "Directory '../dataset/' already exists; export will be merged with existing files\n",
      " 100% |███████████████| 5833/5833 [54.6s elapsed, 0s remaining, 287.0 samples/s]      \n",
      "Directory '../dataset/' already exists; export will be merged with existing files\n",
      " 100% |█████████████████| 648/648 [7.6s elapsed, 0s remaining, 92.9 samples/s]       \n"
     ]
    }
   ],
   "source": [
    "# The splits to export\n",
    "splits = [\"train\", \"val\"]\n",
    "classes = name_class\n",
    "\n",
    "export_dir = \"../dataset/\"\n",
    "label_field = \"ground_truth\"\n",
    "\n",
    "# Export the splits\n",
    "for split in splits:\n",
    "    split_view = dataset.match_tags(split)\n",
    "    split_view.export(\n",
    "        export_dir=export_dir,\n",
    "        dataset_type=fo.types.YOLOv5Dataset,\n",
    "        label_field=label_field,\n",
    "        split=split,\n",
    "        classes=classes,\n",
    "    )"
   ]
  },
  {
   "cell_type": "code",
   "execution_count": null,
   "metadata": {},
   "outputs": [],
   "source": []
  }
 ],
 "metadata": {
  "kernelspec": {
   "display_name": "dacon",
   "language": "python",
   "name": "dacon"
  },
  "language_info": {
   "codemirror_mode": {
    "name": "ipython",
    "version": 3
   },
   "file_extension": ".py",
   "mimetype": "text/x-python",
   "name": "python",
   "nbconvert_exporter": "python",
   "pygments_lexer": "ipython3",
   "version": "3.9.16"
  },
  "orig_nbformat": 4
 },
 "nbformat": 4,
 "nbformat_minor": 2
}
