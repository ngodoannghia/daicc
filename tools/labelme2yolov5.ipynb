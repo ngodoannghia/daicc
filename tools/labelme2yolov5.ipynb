{
 "cells": [
  {
   "cell_type": "code",
   "execution_count": 2,
   "metadata": {},
   "outputs": [],
   "source": [
    "import glob\n",
    "import os\n",
    "import cv2\n",
    "from tqdm import tqdm\n",
    "import shutil\n",
    "import math"
   ]
  },
  {
   "cell_type": "code",
   "execution_count": 3,
   "metadata": {},
   "outputs": [],
   "source": [
    "txt_file_list = glob.glob('../data/train/*.txt')"
   ]
  },
  {
   "cell_type": "code",
   "execution_count": 6,
   "metadata": {},
   "outputs": [
    {
     "name": "stderr",
     "output_type": "stream",
     "text": [
      "100%|██████████| 6481/6481 [04:23<00:00, 24.64it/s]\n"
     ]
    }
   ],
   "source": [
    "for file in tqdm(txt_file_list):\n",
    "    file_name = os.path.basename(file)\n",
    "    file_name = file_name.split('.')[0]\n",
    "    img = cv2.imread('../data/train/' + file_name + '.png')\n",
    "    img_height, img_width, _ = img.shape\n",
    "    # print(file_name, img_height, img_width)\n",
    "    cv2.destroyAllWindows()\n",
    "    with open(file, 'r') as f:\n",
    "        lines_list = []\n",
    "        lines = f.readlines()\n",
    "        for line in lines:\n",
    "            line = list(map(float, line.strip().split(' ')))\n",
    "            class_name = int(line[0])\n",
    "            x_min, y_min = float(min(line[5], line[7])), float(min(line[6], line[8]))\n",
    "            x_max, y_max = float(max(line[1], line[3])), float(max(line[2], line[4]))\n",
    "            x_center, y_center = float(((x_min + x_max) / 2) / img_width), float(((y_min + y_max) / 2) / img_height)\n",
    "            width, height = abs(x_max - x_min) / img_width, abs(y_max - y_min) / img_height\n",
    "            # print(x_center, y_center, width, height)\n",
    "            lines_list.append([class_name, x_center, y_center, width, height])\n",
    "    with open('../data/train/labels/' + file_name + '.txt', 'w') as f:\n",
    "        for line in lines_list:\n",
    "            f.write(str(line[0]) + ' ' + str(line[1]) + ' ' + str(line[2]) + ' ' + str(line[3]) + ' ' + str(line[4]) + '\\n')"
   ]
  },
  {
   "cell_type": "code",
   "execution_count": 8,
   "metadata": {},
   "outputs": [],
   "source": [
    "## Move image\n",
    "png_file_list = glob.glob('../data/train/*.png')"
   ]
  },
  {
   "cell_type": "code",
   "execution_count": 11,
   "metadata": {},
   "outputs": [],
   "source": [
    "png_file_list[0].split('\\\\')\n",
    "for f in png_file_list:\n",
    "    shutil.move(f, \"../data/train/images/\")"
   ]
  },
  {
   "cell_type": "code",
   "execution_count": null,
   "metadata": {},
   "outputs": [],
   "source": [
    "# Remove file\n",
    "for i in txt_file_list:\n",
    "    os.remove(i)"
   ]
  },
  {
   "cell_type": "code",
   "execution_count": null,
   "metadata": {},
   "outputs": [],
   "source": []
  }
 ],
 "metadata": {
  "kernelspec": {
   "display_name": "dacon",
   "language": "python",
   "name": "dacon"
  },
  "language_info": {
   "codemirror_mode": {
    "name": "ipython",
    "version": 3
   },
   "file_extension": ".py",
   "mimetype": "text/x-python",
   "name": "python",
   "nbconvert_exporter": "python",
   "pygments_lexer": "ipython3",
   "version": "3.9.16"
  },
  "orig_nbformat": 4
 },
 "nbformat": 4,
 "nbformat_minor": 2
}
